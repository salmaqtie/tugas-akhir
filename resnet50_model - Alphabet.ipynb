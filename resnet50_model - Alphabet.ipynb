{
 "cells": [
  {
   "attachments": {},
   "cell_type": "markdown",
   "metadata": {},
   "source": [
    "### Import Dependencies"
   ]
  },
  {
   "cell_type": "code",
   "execution_count": 51,
   "metadata": {},
   "outputs": [],
   "source": [
    "import os\n",
    "import pathlib\n",
    "import numpy as np\n",
    "import matplotlib.pyplot as plt\n",
    "import torch\n",
    "import torch.nn as nn\n",
    "import torchvision.models as models\n",
    "from torchvision import datasets, transforms\n",
    "from sklearn.metrics import confusion_matrix,accuracy_score, precision_score, recall_score, f1_score\n",
    "import seaborn as sns\n",
    "from skimage.color import rgb2gray\n",
    "import cv2\n",
    "from PIL import Image\n",
    "from torchsummary import summary"
   ]
  },
  {
   "cell_type": "code",
   "execution_count": 52,
   "metadata": {},
   "outputs": [
    {
     "data": {
      "text/plain": [
       "True"
      ]
     },
     "execution_count": 52,
     "metadata": {},
     "output_type": "execute_result"
    }
   ],
   "source": [
    "torch.cuda.is_available()"
   ]
  },
  {
   "attachments": {},
   "cell_type": "markdown",
   "metadata": {},
   "source": [
    "### Import Datasets and Get Classes"
   ]
  },
  {
   "cell_type": "code",
   "execution_count": 53,
   "metadata": {},
   "outputs": [
    {
     "name": "stdout",
     "output_type": "stream",
     "text": [
      "There are 1 directories and 0 images in Data pisah\n",
      "There are 3 directories and 0 images in Data pisah\\Number\n",
      "There are 10 directories and 0 images in Data pisah\\Number\\Test\n",
      "There are 0 directories and 157 images in Data pisah\\Number\\Test\\0\n",
      "There are 0 directories and 159 images in Data pisah\\Number\\Test\\1\n",
      "There are 0 directories and 155 images in Data pisah\\Number\\Test\\2\n",
      "There are 0 directories and 156 images in Data pisah\\Number\\Test\\3\n",
      "There are 0 directories and 155 images in Data pisah\\Number\\Test\\4\n",
      "There are 0 directories and 156 images in Data pisah\\Number\\Test\\5\n",
      "There are 0 directories and 156 images in Data pisah\\Number\\Test\\6\n",
      "There are 0 directories and 155 images in Data pisah\\Number\\Test\\7\n",
      "There are 0 directories and 155 images in Data pisah\\Number\\Test\\8\n",
      "There are 0 directories and 155 images in Data pisah\\Number\\Test\\9\n",
      "There are 10 directories and 0 images in Data pisah\\Number\\Train\n",
      "There are 0 directories and 585 images in Data pisah\\Number\\Train\\0\n",
      "There are 0 directories and 591 images in Data pisah\\Number\\Train\\1\n",
      "There are 0 directories and 618 images in Data pisah\\Number\\Train\\2\n",
      "There are 0 directories and 619 images in Data pisah\\Number\\Train\\3\n",
      "There are 0 directories and 618 images in Data pisah\\Number\\Train\\4\n",
      "There are 0 directories and 619 images in Data pisah\\Number\\Train\\5\n",
      "There are 0 directories and 619 images in Data pisah\\Number\\Train\\6\n",
      "There are 0 directories and 618 images in Data pisah\\Number\\Train\\7\n",
      "There are 0 directories and 618 images in Data pisah\\Number\\Train\\8\n",
      "There are 0 directories and 618 images in Data pisah\\Number\\Train\\9\n",
      "There are 10 directories and 0 images in Data pisah\\Number\\Val\n",
      "There are 0 directories and 259 images in Data pisah\\Number\\Val\\0\n",
      "There are 0 directories and 261 images in Data pisah\\Number\\Val\\1\n",
      "There are 0 directories and 257 images in Data pisah\\Number\\Val\\2\n",
      "There are 0 directories and 258 images in Data pisah\\Number\\Val\\3\n",
      "There are 0 directories and 257 images in Data pisah\\Number\\Val\\4\n",
      "There are 0 directories and 258 images in Data pisah\\Number\\Val\\5\n",
      "There are 0 directories and 258 images in Data pisah\\Number\\Val\\6\n",
      "There are 0 directories and 257 images in Data pisah\\Number\\Val\\7\n",
      "There are 0 directories and 257 images in Data pisah\\Number\\Val\\8\n",
      "There are 0 directories and 257 images in Data pisah\\Number\\Val\\9\n",
      "['0' '1' '2' '3' '4' '5' '6' '7' '8' '9']\n"
     ]
    }
   ],
   "source": [
    "for dirpath, dirnames, filenames in os.walk(\"Data pisah\"):\n",
    "    print(f\"There are {len(dirnames)} directories and {len(filenames)} images in {dirpath}\")\n",
    "\n",
    "letter_class = len(os.listdir(\"Data pisah/Alphabet/Train\"))\n",
    "\n",
    "dataset_dir = pathlib.Path(\"Data pisah/Number/train\")\n",
    "class_names = np.array(sorted([item.name for item in dataset_dir.glob(\"*\")]))\n",
    "print(class_names)"
   ]
  },
  {
   "attachments": {},
   "cell_type": "markdown",
   "metadata": {},
   "source": [
    "### Data Preprocessing"
   ]
  },
  {
   "attachments": {},
   "cell_type": "markdown",
   "metadata": {},
   "source": [
    "##### Call the dataset"
   ]
  },
  {
   "cell_type": "code",
   "execution_count": 54,
   "metadata": {},
   "outputs": [],
   "source": [
    "resize_transform = transforms.Compose([\n",
    "    transforms.Resize((256, 256)),\n",
    "])\n",
    "\n",
    "image_dataset = datasets.ImageFolder(root='Data Pisah/Alphabet/Train/',transform=resize_transform)"
   ]
  },
  {
   "attachments": {},
   "cell_type": "markdown",
   "metadata": {},
   "source": [
    "##### Show image example in each class"
   ]
  },
  {
   "cell_type": "code",
   "execution_count": 55,
   "metadata": {},
   "outputs": [],
   "source": [
    "# # Define the classes of your dataset\n",
    "# classes = image_dataset.classes\n",
    "\n",
    "# # Create a figure with subplots for each class\n",
    "# fig, axes = plt.subplots(6, 6, figsize=(12, 12))\n",
    "\n",
    "# # Loop through each class and plot the first image\n",
    "# for i, cls in enumerate(classes):\n",
    "#     # Get the indices of the images for this class\n",
    "#     indices = [j for j, (x, y) in enumerate(image_dataset) if y == i]\n",
    "#     # Get the first image for this class\n",
    "#     img = image_dataset[indices[0]][0]\n",
    "#     img = img.resize((256, 256))\n",
    "#     # Plot the image on the corresponding subplot\n",
    "#     axes.flat[i].imshow(img)\n",
    "#     axes.flat[i].set_title(cls)\n",
    "\n",
    "# plt.show()"
   ]
  },
  {
   "attachments": {},
   "cell_type": "markdown",
   "metadata": {},
   "source": [
    "##### Create image preprocessing"
   ]
  },
  {
   "cell_type": "code",
   "execution_count": 56,
   "metadata": {},
   "outputs": [],
   "source": [
    "class OtsuTransform:\n",
    "    def __call__(self, image):\n",
    "        # Convert the PIL Image to a NumPy array\n",
    "        image_array = np.array(image)\n",
    "        \n",
    "        # Convert the image to grayscale\n",
    "        gray_image = cv2.cvtColor(image_array, cv2.COLOR_RGB2GRAY)\n",
    "        \n",
    "        # Convert the grayscale image to the desired format (8-bit or 16-bit)\n",
    "        if gray_image.dtype != np.uint8:\n",
    "            gray_image = (gray_image * 255).astype(np.uint8)\n",
    "        \n",
    "        # Apply Otsu's thresholding\n",
    "        _, binary_image = cv2.threshold(gray_image, 0, 255, cv2.THRESH_BINARY + cv2.THRESH_OTSU)\n",
    "        \n",
    "        # Convert the binary image back to a PIL Image\n",
    "        binary_image = Image.fromarray(binary_image)\n",
    "        \n",
    "        # Return the binary image\n",
    "        return binary_image"
   ]
  },
  {
   "cell_type": "code",
   "execution_count": 57,
   "metadata": {},
   "outputs": [],
   "source": [
    "# Example usage\n",
    "transform = transforms.Compose([\n",
    "    transforms.Resize((256, 256)),\n",
    "    OtsuTransform(),\n",
    "    transforms.ToTensor(),\n",
    "    transforms.Normalize([0.5], [0.5])\n",
    "])"
   ]
  },
  {
   "attachments": {},
   "cell_type": "markdown",
   "metadata": {},
   "source": [
    "##### Show image transformation"
   ]
  },
  {
   "cell_type": "code",
   "execution_count": 58,
   "metadata": {},
   "outputs": [
    {
     "data": {
      "image/png": "[encoded data removed]",
      "text/plain": [
       "<Figure size 720x360 with 2 Axes>"
      ]
     },
     "metadata": {
      "needs_background": "light"
     },
     "output_type": "display_data"
    }
   ],
   "source": [
    "example_image, _ = image_dataset[0]\n",
    "# fig, ax = plt.subplots(1, 2, figsize=(10, 5))\n",
    "# ax[0].imshow(example_image)\n",
    "# ax[0].set_title('Before transform')\n",
    "# transformed_image = transform(example_image)\n",
    "# transformed_image = transformed_image.squeeze().numpy()\n",
    "# ax[1].imshow(transformed_image.permute(1, 2, 0))\n",
    "# ax[1].set_title('After transform')\n",
    "# plt.show()\n",
    "\n",
    "transformed_image = transform(example_image)\n",
    "\n",
    "\n",
    "\n",
    "fig, axs = plt.subplots(1, 2, figsize=(10, 5))\n",
    "# Original Image\n",
    "axs[0].imshow(example_image)\n",
    "axs[0].set_title('Original Image')\n",
    "axs[0].axis('off')\n",
    "\n",
    "# Transformed Image\n",
    "transformed_image = transformed_image.squeeze().numpy()   # Squeeze the additional dimension\n",
    "axs[1].imshow(transformed_image, cmap='gray')\n",
    "axs[1].set_title('Transformed Image')\n",
    "axs[1].axis('off')\n",
    "\n",
    "plt.show()"
   ]
  },
  {
   "attachments": {},
   "cell_type": "markdown",
   "metadata": {},
   "source": [
    "### ResNet50 Model Building"
   ]
  },
  {
   "attachments": {},
   "cell_type": "markdown",
   "metadata": {},
   "source": [
    "##### Hyperparameter Setup"
   ]
  },
  {
   "cell_type": "code",
   "execution_count": 59,
   "metadata": {},
   "outputs": [],
   "source": [
    "num_classes =26\n",
    "batch_size = 64\n",
    "num_epochs = 64\n",
    "learning_rate = 0.0001"
   ]
  },
  {
   "attachments": {},
   "cell_type": "markdown",
   "metadata": {},
   "source": [
    "##### Apply preprocessing to transform the dataset"
   ]
  },
  {
   "cell_type": "code",
   "execution_count": 60,
   "metadata": {},
   "outputs": [],
   "source": [
    "train_set = datasets.ImageFolder(root='Data pisah/Alphabet/Train/', transform=transform)\n",
    "train_loader = torch.utils.data.DataLoader(train_set, batch_size=batch_size, shuffle=True)\n",
    "\n",
    "val_set = datasets.ImageFolder(root='Data pisah/Alphabet/Val/', transform=transform)\n",
    "val_loader = torch.utils.data.DataLoader(val_set, batch_size=batch_size, shuffle=False)\n",
    "\n",
    "test_set = datasets.ImageFolder(root='Data pisah//Alphabet/Test/', transform=transform)\n",
    "test_loader = torch.utils.data.DataLoader(test_set, batch_size=batch_size, shuffle=False)"
   ]
  },
  {
   "attachments": {},
   "cell_type": "markdown",
   "metadata": {},
   "source": [
    "##### Load pre-trained ResNet50 model"
   ]
  },
  {
   "cell_type": "code",
   "execution_count": 61,
   "metadata": {},
   "outputs": [],
   "source": [
    "resnet50 = models.resnet50(pretrained=True)\n",
    "\n",
    "# Modify the input channel of the first convolutional layer\n",
    "resnet50.conv1 = nn.Conv2d(1, 64, kernel_size=7, stride=2, padding=3, bias=False)"
   ]
  },
  {
   "cell_type": "code",
   "execution_count": 62,
   "metadata": {},
   "outputs": [],
   "source": [
    "# Freeze all layers in the pre-trained model\n",
    "for param in resnet50.parameters():\n",
    "    param.requires_grad = False"
   ]
  },
  {
   "cell_type": "code",
   "execution_count": 63,
   "metadata": {},
   "outputs": [],
   "source": [
    "# Replace the last fully connected layer with a new one\n",
    "num_ftrs = resnet50.fc.in_features\n",
    "resnet50.fc = nn.Linear(num_ftrs, num_classes)"
   ]
  },
  {
   "cell_type": "code",
   "execution_count": 64,
   "metadata": {},
   "outputs": [],
   "source": [
    "# summary(resnet50, (1, 256, 256), 64)"
   ]
  },
  {
   "attachments": {},
   "cell_type": "markdown",
   "metadata": {},
   "source": [
    "##### Define loss function and optimizer"
   ]
  },
  {
   "cell_type": "code",
   "execution_count": 65,
   "metadata": {},
   "outputs": [
    {
     "data": {
      "text/plain": [
       "ResNet(\n",
       "  (conv1): Conv2d(1, 64, kernel_size=(7, 7), stride=(2, 2), padding=(3, 3), bias=False)\n",
       "  (bn1): BatchNorm2d(64, eps=1e-05, momentum=0.1, affine=True, track_running_stats=True)\n",
       "  (relu): ReLU(inplace=True)\n",
       "  (maxpool): MaxPool2d(kernel_size=3, stride=2, padding=1, dilation=1, ceil_mode=False)\n",
       "  (layer1): Sequential(\n",
       "    (0): Bottleneck(\n",
       "      (conv1): Conv2d(64, 64, kernel_size=(1, 1), stride=(1, 1), bias=False)\n",
       "      (bn1): BatchNorm2d(64, eps=1e-05, momentum=0.1, affine=True, track_running_stats=True)\n",
       "      (conv2): Conv2d(64, 64, kernel_size=(3, 3), stride=(1, 1), padding=(1, 1), bias=False)\n",
       "      (bn2): BatchNorm2d(64, eps=1e-05, momentum=0.1, affine=True, track_running_stats=True)\n",
       "      (conv3): Conv2d(64, 256, kernel_size=(1, 1), stride=(1, 1), bias=False)\n",
       "      (bn3): BatchNorm2d(256, eps=1e-05, momentum=0.1, affine=True, track_running_stats=True)\n",
       "      (relu): ReLU(inplace=True)\n",
       "      (downsample): Sequential(\n",
       "        (0): Conv2d(64, 256, kernel_size=(1, 1), stride=(1, 1), bias=False)\n",
       "        (1): BatchNorm2d(256, eps=1e-05, momentum=0.1, affine=True, track_running_stats=True)\n",
       "      )\n",
       "    )\n",
       "    (1): Bottleneck(\n",
       "      (conv1): Conv2d(256, 64, kernel_size=(1, 1), stride=(1, 1), bias=False)\n",
       "      (bn1): BatchNorm2d(64, eps=1e-05, momentum=0.1, affine=True, track_running_stats=True)\n",
       "      (conv2): Conv2d(64, 64, kernel_size=(3, 3), stride=(1, 1), padding=(1, 1), bias=False)\n",
       "      (bn2): BatchNorm2d(64, eps=1e-05, momentum=0.1, affine=True, track_running_stats=True)\n",
       "      (conv3): Conv2d(64, 256, kernel_size=(1, 1), stride=(1, 1), bias=False)\n",
       "      (bn3): BatchNorm2d(256, eps=1e-05, momentum=0.1, affine=True, track_running_stats=True)\n",
       "      (relu): ReLU(inplace=True)\n",
       "    )\n",
       "    (2): Bottleneck(\n",
       "      (conv1): Conv2d(256, 64, kernel_size=(1, 1), stride=(1, 1), bias=False)\n",
       "      (bn1): BatchNorm2d(64, eps=1e-05, momentum=0.1, affine=True, track_running_stats=True)\n",
       "      (conv2): Conv2d(64, 64, kernel_size=(3, 3), stride=(1, 1), padding=(1, 1), bias=False)\n",
       "      (bn2): BatchNorm2d(64, eps=1e-05, momentum=0.1, affine=True, track_running_stats=True)\n",
       "      (conv3): Conv2d(64, 256, kernel_size=(1, 1), stride=(1, 1), bias=False)\n",
       "      (bn3): BatchNorm2d(256, eps=1e-05, momentum=0.1, affine=True, track_running_stats=True)\n",
       "      (relu): ReLU(inplace=True)\n",
       "    )\n",
       "  )\n",
       "  (layer2): Sequential(\n",
       "    (0): Bottleneck(\n",
       "      (conv1): Conv2d(256, 128, kernel_size=(1, 1), stride=(1, 1), bias=False)\n",
       "      (bn1): BatchNorm2d(128, eps=1e-05, momentum=0.1, affine=True, track_running_stats=True)\n",
       "      (conv2): Conv2d(128, 128, kernel_size=(3, 3), stride=(2, 2), padding=(1, 1), bias=False)\n",
       "      (bn2): BatchNorm2d(128, eps=1e-05, momentum=0.1, affine=True, track_running_stats=True)\n",
       "      (conv3): Conv2d(128, 512, kernel_size=(1, 1), stride=(1, 1), bias=False)\n",
       "      (bn3): BatchNorm2d(512, eps=1e-05, momentum=0.1, affine=True, track_running_stats=True)\n",
       "      (relu): ReLU(inplace=True)\n",
       "      (downsample): Sequential(\n",
       "        (0): Conv2d(256, 512, kernel_size=(1, 1), stride=(2, 2), bias=False)\n",
       "        (1): BatchNorm2d(512, eps=1e-05, momentum=0.1, affine=True, track_running_stats=True)\n",
       "      )\n",
       "    )\n",
       "    (1): Bottleneck(\n",
       "      (conv1): Conv2d(512, 128, kernel_size=(1, 1), stride=(1, 1), bias=False)\n",
       "      (bn1): BatchNorm2d(128, eps=1e-05, momentum=0.1, affine=True, track_running_stats=True)\n",
       "      (conv2): Conv2d(128, 128, kernel_size=(3, 3), stride=(1, 1), padding=(1, 1), bias=False)\n",
       "      (bn2): BatchNorm2d(128, eps=1e-05, momentum=0.1, affine=True, track_running_stats=True)\n",
       "      (conv3): Conv2d(128, 512, kernel_size=(1, 1), stride=(1, 1), bias=False)\n",
       "      (bn3): BatchNorm2d(512, eps=1e-05, momentum=0.1, affine=True, track_running_stats=True)\n",
       "      (relu): ReLU(inplace=True)\n",
       "    )\n",
       "    (2): Bottleneck(\n",
       "      (conv1): Conv2d(512, 128, kernel_size=(1, 1), stride=(1, 1), bias=False)\n",
       "      (bn1): BatchNorm2d(128, eps=1e-05, momentum=0.1, affine=True, track_running_stats=True)\n",
       "      (conv2): Conv2d(128, 128, kernel_size=(3, 3), stride=(1, 1), padding=(1, 1), bias=False)\n",
       "      (bn2): BatchNorm2d(128, eps=1e-05, momentum=0.1, affine=True, track_running_stats=True)\n",
       "      (conv3): Conv2d(128, 512, kernel_size=(1, 1), stride=(1, 1), bias=False)\n",
       "      (bn3): BatchNorm2d(512, eps=1e-05, momentum=0.1, affine=True, track_running_stats=True)\n",
       "      (relu): ReLU(inplace=True)\n",
       "    )\n",
       "    (3): Bottleneck(\n",
       "      (conv1): Conv2d(512, 128, kernel_size=(1, 1), stride=(1, 1), bias=False)\n",
       "      (bn1): BatchNorm2d(128, eps=1e-05, momentum=0.1, affine=True, track_running_stats=True)\n",
       "      (conv2): Conv2d(128, 128, kernel_size=(3, 3), stride=(1, 1), padding=(1, 1), bias=False)\n",
       "      (bn2): BatchNorm2d(128, eps=1e-05, momentum=0.1, affine=True, track_running_stats=True)\n",
       "      (conv3): Conv2d(128, 512, kernel_size=(1, 1), stride=(1, 1), bias=False)\n",
       "      (bn3): BatchNorm2d(512, eps=1e-05, momentum=0.1, affine=True, track_running_stats=True)\n",
       "      (relu): ReLU(inplace=True)\n",
       "    )\n",
       "  )\n",
       "  (layer3): Sequential(\n",
       "    (0): Bottleneck(\n",
       "      (conv1): Conv2d(512, 256, kernel_size=(1, 1), stride=(1, 1), bias=False)\n",
       "      (bn1): BatchNorm2d(256, eps=1e-05, momentum=0.1, affine=True, track_running_stats=True)\n",
       "      (conv2): Conv2d(256, 256, kernel_size=(3, 3), stride=(2, 2), padding=(1, 1), bias=False)\n",
       "      (bn2): BatchNorm2d(256, eps=1e-05, momentum=0.1, affine=True, track_running_stats=True)\n",
       "      (conv3): Conv2d(256, 1024, kernel_size=(1, 1), stride=(1, 1), bias=False)\n",
       "      (bn3): BatchNorm2d(1024, eps=1e-05, momentum=0.1, affine=True, track_running_stats=True)\n",
       "      (relu): ReLU(inplace=True)\n",
       "      (downsample): Sequential(\n",
       "        (0): Conv2d(512, 1024, kernel_size=(1, 1), stride=(2, 2), bias=False)\n",
       "        (1): BatchNorm2d(1024, eps=1e-05, momentum=0.1, affine=True, track_running_stats=True)\n",
       "      )\n",
       "    )\n",
       "    (1): Bottleneck(\n",
       "      (conv1): Conv2d(1024, 256, kernel_size=(1, 1), stride=(1, 1), bias=False)\n",
       "      (bn1): BatchNorm2d(256, eps=1e-05, momentum=0.1, affine=True, track_running_stats=True)\n",
       "      (conv2): Conv2d(256, 256, kernel_size=(3, 3), stride=(1, 1), padding=(1, 1), bias=False)\n",
       "      (bn2): BatchNorm2d(256, eps=1e-05, momentum=0.1, affine=True, track_running_stats=True)\n",
       "      (conv3): Conv2d(256, 1024, kernel_size=(1, 1), stride=(1, 1), bias=False)\n",
       "      (bn3): BatchNorm2d(1024, eps=1e-05, momentum=0.1, affine=True, track_running_stats=True)\n",
       "      (relu): ReLU(inplace=True)\n",
       "    )\n",
       "    (2): Bottleneck(\n",
       "      (conv1): Conv2d(1024, 256, kernel_size=(1, 1), stride=(1, 1), bias=False)\n",
       "      (bn1): BatchNorm2d(256, eps=1e-05, momentum=0.1, affine=True, track_running_stats=True)\n",
       "      (conv2): Conv2d(256, 256, kernel_size=(3, 3), stride=(1, 1), padding=(1, 1), bias=False)\n",
       "      (bn2): BatchNorm2d(256, eps=1e-05, momentum=0.1, affine=True, track_running_stats=True)\n",
       "      (conv3): Conv2d(256, 1024, kernel_size=(1, 1), stride=(1, 1), bias=False)\n",
       "      (bn3): BatchNorm2d(1024, eps=1e-05, momentum=0.1, affine=True, track_running_stats=True)\n",
       "      (relu): ReLU(inplace=True)\n",
       "    )\n",
       "    (3): Bottleneck(\n",
       "      (conv1): Conv2d(1024, 256, kernel_size=(1, 1), stride=(1, 1), bias=False)\n",
       "      (bn1): BatchNorm2d(256, eps=1e-05, momentum=0.1, affine=True, track_running_stats=True)\n",
       "      (conv2): Conv2d(256, 256, kernel_size=(3, 3), stride=(1, 1), padding=(1, 1), bias=False)\n",
       "      (bn2): BatchNorm2d(256, eps=1e-05, momentum=0.1, affine=True, track_running_stats=True)\n",
       "      (conv3): Conv2d(256, 1024, kernel_size=(1, 1), stride=(1, 1), bias=False)\n",
       "      (bn3): BatchNorm2d(1024, eps=1e-05, momentum=0.1, affine=True, track_running_stats=True)\n",
       "      (relu): ReLU(inplace=True)\n",
       "    )\n",
       "    (4): Bottleneck(\n",
       "      (conv1): Conv2d(1024, 256, kernel_size=(1, 1), stride=(1, 1), bias=False)\n",
       "      (bn1): BatchNorm2d(256, eps=1e-05, momentum=0.1, affine=True, track_running_stats=True)\n",
       "      (conv2): Conv2d(256, 256, kernel_size=(3, 3), stride=(1, 1), padding=(1, 1), bias=False)\n",
       "      (bn2): BatchNorm2d(256, eps=1e-05, momentum=0.1, affine=True, track_running_stats=True)\n",
       "      (conv3): Conv2d(256, 1024, kernel_size=(1, 1), stride=(1, 1), bias=False)\n",
       "      (bn3): BatchNorm2d(1024, eps=1e-05, momentum=0.1, affine=True, track_running_stats=True)\n",
       "      (relu): ReLU(inplace=True)\n",
       "    )\n",
       "    (5): Bottleneck(\n",
       "      (conv1): Conv2d(1024, 256, kernel_size=(1, 1), stride=(1, 1), bias=False)\n",
       "      (bn1): BatchNorm2d(256, eps=1e-05, momentum=0.1, affine=True, track_running_stats=True)\n",
       "      (conv2): Conv2d(256, 256, kernel_size=(3, 3), stride=(1, 1), padding=(1, 1), bias=False)\n",
       "      (bn2): BatchNorm2d(256, eps=1e-05, momentum=0.1, affine=True, track_running_stats=True)\n",
       "      (conv3): Conv2d(256, 1024, kernel_size=(1, 1), stride=(1, 1), bias=False)\n",
       "      (bn3): BatchNorm2d(1024, eps=1e-05, momentum=0.1, affine=True, track_running_stats=True)\n",
       "      (relu): ReLU(inplace=True)\n",
       "    )\n",
       "  )\n",
       "  (layer4): Sequential(\n",
       "    (0): Bottleneck(\n",
       "      (conv1): Conv2d(1024, 512, kernel_size=(1, 1), stride=(1, 1), bias=False)\n",
       "      (bn1): BatchNorm2d(512, eps=1e-05, momentum=0.1, affine=True, track_running_stats=True)\n",
       "      (conv2): Conv2d(512, 512, kernel_size=(3, 3), stride=(2, 2), padding=(1, 1), bias=False)\n",
       "      (bn2): BatchNorm2d(512, eps=1e-05, momentum=0.1, affine=True, track_running_stats=True)\n",
       "      (conv3): Conv2d(512, 2048, kernel_size=(1, 1), stride=(1, 1), bias=False)\n",
       "      (bn3): BatchNorm2d(2048, eps=1e-05, momentum=0.1, affine=True, track_running_stats=True)\n",
       "      (relu): ReLU(inplace=True)\n",
       "      (downsample): Sequential(\n",
       "        (0): Conv2d(1024, 2048, kernel_size=(1, 1), stride=(2, 2), bias=False)\n",
       "        (1): BatchNorm2d(2048, eps=1e-05, momentum=0.1, affine=True, track_running_stats=True)\n",
       "      )\n",
       "    )\n",
       "    (1): Bottleneck(\n",
       "      (conv1): Conv2d(2048, 512, kernel_size=(1, 1), stride=(1, 1), bias=False)\n",
       "      (bn1): BatchNorm2d(512, eps=1e-05, momentum=0.1, affine=True, track_running_stats=True)\n",
       "      (conv2): Conv2d(512, 512, kernel_size=(3, 3), stride=(1, 1), padding=(1, 1), bias=False)\n",
       "      (bn2): BatchNorm2d(512, eps=1e-05, momentum=0.1, affine=True, track_running_stats=True)\n",
       "      (conv3): Conv2d(512, 2048, kernel_size=(1, 1), stride=(1, 1), bias=False)\n",
       "      (bn3): BatchNorm2d(2048, eps=1e-05, momentum=0.1, affine=True, track_running_stats=True)\n",
       "      (relu): ReLU(inplace=True)\n",
       "    )\n",
       "    (2): Bottleneck(\n",
       "      (conv1): Conv2d(2048, 512, kernel_size=(1, 1), stride=(1, 1), bias=False)\n",
       "      (bn1): BatchNorm2d(512, eps=1e-05, momentum=0.1, affine=True, track_running_stats=True)\n",
       "      (conv2): Conv2d(512, 512, kernel_size=(3, 3), stride=(1, 1), padding=(1, 1), bias=False)\n",
       "      (bn2): BatchNorm2d(512, eps=1e-05, momentum=0.1, affine=True, track_running_stats=True)\n",
       "      (conv3): Conv2d(512, 2048, kernel_size=(1, 1), stride=(1, 1), bias=False)\n",
       "      (bn3): BatchNorm2d(2048, eps=1e-05, momentum=0.1, affine=True, track_running_stats=True)\n",
       "      (relu): ReLU(inplace=True)\n",
       "    )\n",
       "  )\n",
       "  (avgpool): AdaptiveAvgPool2d(output_size=(1, 1))\n",
       "  (fc): Linear(in_features=2048, out_features=10, bias=True)\n",
       ")"
      ]
     },
     "execution_count": 65,
     "metadata": {},
     "output_type": "execute_result"
    }
   ],
   "source": [
    "criterion = nn.CrossEntropyLoss()\n",
    "optimizer = torch.optim.Adam(resnet50.fc.parameters(), lr=learning_rate)\n",
    "\n",
    "device = torch.device(\"cuda\" if torch.cuda.is_available() else \"cpu\")\n",
    "resnet50.to(device)"
   ]
  },
  {
   "attachments": {},
   "cell_type": "markdown",
   "metadata": {},
   "source": [
    "### Train and Validate Model"
   ]
  },
  {
   "attachments": {},
   "cell_type": "markdown",
   "metadata": {},
   "source": [
    "##### Train the model"
   ]
  },
  {
   "cell_type": "code",
   "execution_count": 66,
   "metadata": {},
   "outputs": [
    {
     "name": "stdout",
     "output_type": "stream",
     "text": [
      "2579 2579\n",
      "Epoch [1/64], Train Loss: 1.8982, Train Acc: 0.5842, Val Loss: 1.5226, Val Acc: 0.8732\n",
      "5158 5158\n",
      "Epoch [2/64], Train Loss: 1.2916, Train Acc: 0.8803, Val Loss: 1.0773, Val Acc: 0.9081\n",
      "7737 7737\n",
      "Epoch [3/64], Train Loss: 0.9491, Train Acc: 0.9112, Val Loss: 0.8172, Val Acc: 0.9279\n",
      "10316 10316\n",
      "Epoch [4/64], Train Loss: 0.7396, Train Acc: 0.9239, Val Loss: 0.6490, Val Acc: 0.9352\n",
      "12895 12895\n",
      "Epoch [5/64], Train Loss: 0.6057, Train Acc: 0.9334, Val Loss: 0.5428, Val Acc: 0.9434\n",
      "15474 15474\n",
      "Epoch [6/64], Train Loss: 0.5111, Train Acc: 0.9433, Val Loss: 0.4669, Val Acc: 0.9453\n",
      "18053 18053\n",
      "Epoch [7/64], Train Loss: 0.4465, Train Acc: 0.9451, Val Loss: 0.4070, Val Acc: 0.9539\n",
      "20632 20632\n",
      "Epoch [8/64], Train Loss: 0.3980, Train Acc: 0.9510, Val Loss: 0.3620, Val Acc: 0.9566\n",
      "23211 23211\n",
      "Epoch [9/64], Train Loss: 0.3583, Train Acc: 0.9541, Val Loss: 0.3325, Val Acc: 0.9546\n",
      "25790 25790\n",
      "Epoch [10/64], Train Loss: 0.3229, Train Acc: 0.9584, Val Loss: 0.3008, Val Acc: 0.9604\n",
      "28369 28369\n",
      "Epoch [11/64], Train Loss: 0.2957, Train Acc: 0.9613, Val Loss: 0.2753, Val Acc: 0.9647\n",
      "30948 30948\n",
      "Epoch [12/64], Train Loss: 0.2759, Train Acc: 0.9668, Val Loss: 0.2564, Val Acc: 0.9651\n",
      "33527 33527\n",
      "Epoch [13/64], Train Loss: 0.2521, Train Acc: 0.9672, Val Loss: 0.2392, Val Acc: 0.9690\n",
      "36106 36106\n",
      "Epoch [14/64], Train Loss: 0.2431, Train Acc: 0.9660, Val Loss: 0.2243, Val Acc: 0.9698\n",
      "38685 38685\n",
      "Epoch [15/64], Train Loss: 0.2265, Train Acc: 0.9691, Val Loss: 0.2125, Val Acc: 0.9713\n",
      "41264 41264\n",
      "Epoch [16/64], Train Loss: 0.2116, Train Acc: 0.9714, Val Loss: 0.1982, Val Acc: 0.9694\n",
      "43843 43843\n",
      "Epoch [17/64], Train Loss: 0.1983, Train Acc: 0.9731, Val Loss: 0.1893, Val Acc: 0.9721\n",
      "46422 46422\n",
      "Epoch [18/64], Train Loss: 0.1903, Train Acc: 0.9758, Val Loss: 0.1780, Val Acc: 0.9744\n",
      "49001 49001\n",
      "Epoch [19/64], Train Loss: 0.1787, Train Acc: 0.9770, Val Loss: 0.1715, Val Acc: 0.9748\n",
      "51580 51580\n",
      "Epoch [20/64], Train Loss: 0.1684, Train Acc: 0.9780, Val Loss: 0.1637, Val Acc: 0.9752\n",
      "54159 54159\n",
      "Epoch [21/64], Train Loss: 0.1639, Train Acc: 0.9775, Val Loss: 0.1563, Val Acc: 0.9771\n",
      "56738 56738\n",
      "Epoch [22/64], Train Loss: 0.1568, Train Acc: 0.9780, Val Loss: 0.1494, Val Acc: 0.9775\n",
      "59317 59317\n",
      "Epoch [23/64], Train Loss: 0.1501, Train Acc: 0.9811, Val Loss: 0.1436, Val Acc: 0.9775\n",
      "61896 61896\n",
      "Epoch [24/64], Train Loss: 0.1439, Train Acc: 0.9799, Val Loss: 0.1399, Val Acc: 0.9767\n",
      "64475 64475\n",
      "Epoch [25/64], Train Loss: 0.1361, Train Acc: 0.9820, Val Loss: 0.1329, Val Acc: 0.9802\n",
      "67054 67054\n",
      "Epoch [26/64], Train Loss: 0.1334, Train Acc: 0.9806, Val Loss: 0.1296, Val Acc: 0.9798\n",
      "69633 69633\n",
      "Epoch [27/64], Train Loss: 0.1262, Train Acc: 0.9829, Val Loss: 0.1239, Val Acc: 0.9802\n",
      "72212 72212\n",
      "Epoch [28/64], Train Loss: 0.1216, Train Acc: 0.9842, Val Loss: 0.1198, Val Acc: 0.9802\n",
      "74791 74791\n",
      "Epoch [29/64], Train Loss: 0.1163, Train Acc: 0.9864, Val Loss: 0.1160, Val Acc: 0.9802\n",
      "77370 77370\n",
      "Epoch [30/64], Train Loss: 0.1157, Train Acc: 0.9840, Val Loss: 0.1105, Val Acc: 0.9802\n",
      "79949 79949\n",
      "Epoch [31/64], Train Loss: 0.1109, Train Acc: 0.9856, Val Loss: 0.1079, Val Acc: 0.9810\n",
      "82528 82528\n",
      "Epoch [32/64], Train Loss: 0.1069, Train Acc: 0.9869, Val Loss: 0.1063, Val Acc: 0.9814\n",
      "85107 85107\n",
      "Epoch [33/64], Train Loss: 0.1006, Train Acc: 0.9886, Val Loss: 0.1022, Val Acc: 0.9806\n",
      "87686 87686\n",
      "Epoch [34/64], Train Loss: 0.1005, Train Acc: 0.9860, Val Loss: 0.1007, Val Acc: 0.9822\n",
      "90265 90265\n",
      "Epoch [35/64], Train Loss: 0.0955, Train Acc: 0.9881, Val Loss: 0.0984, Val Acc: 0.9814\n",
      "92844 92844\n",
      "Epoch [36/64], Train Loss: 0.0964, Train Acc: 0.9886, Val Loss: 0.0956, Val Acc: 0.9826\n",
      "95423 95423\n",
      "Epoch [37/64], Train Loss: 0.0898, Train Acc: 0.9891, Val Loss: 0.0921, Val Acc: 0.9829\n",
      "98002 98002\n",
      "Epoch [38/64], Train Loss: 0.0884, Train Acc: 0.9909, Val Loss: 0.0921, Val Acc: 0.9818\n",
      "100581 100581\n",
      "Epoch [39/64], Train Loss: 0.0848, Train Acc: 0.9891, Val Loss: 0.0879, Val Acc: 0.9853\n",
      "103160 103160\n",
      "Epoch [40/64], Train Loss: 0.0862, Train Acc: 0.9881, Val Loss: 0.0905, Val Acc: 0.9841\n",
      "105739 105739\n",
      "Epoch [41/64], Train Loss: 0.0811, Train Acc: 0.9899, Val Loss: 0.0842, Val Acc: 0.9837\n",
      "108318 108318\n",
      "Epoch [42/64], Train Loss: 0.0782, Train Acc: 0.9900, Val Loss: 0.0826, Val Acc: 0.9837\n",
      "110897 110897\n",
      "Epoch [43/64], Train Loss: 0.0778, Train Acc: 0.9907, Val Loss: 0.0803, Val Acc: 0.9841\n",
      "113476 113476\n",
      "Epoch [44/64], Train Loss: 0.0748, Train Acc: 0.9909, Val Loss: 0.0771, Val Acc: 0.9845\n",
      "116055 116055\n",
      "Epoch [45/64], Train Loss: 0.0713, Train Acc: 0.9918, Val Loss: 0.0788, Val Acc: 0.9845\n",
      "118634 118634\n",
      "Epoch [46/64], Train Loss: 0.0715, Train Acc: 0.9912, Val Loss: 0.0751, Val Acc: 0.9849\n",
      "121213 121213\n",
      "Epoch [47/64], Train Loss: 0.0699, Train Acc: 0.9923, Val Loss: 0.0745, Val Acc: 0.9864\n",
      "123792 123792\n",
      "Epoch [48/64], Train Loss: 0.0688, Train Acc: 0.9915, Val Loss: 0.0726, Val Acc: 0.9857\n",
      "126371 126371\n",
      "Epoch [49/64], Train Loss: 0.0668, Train Acc: 0.9910, Val Loss: 0.0720, Val Acc: 0.9853\n",
      "128950 128950\n",
      "Epoch [50/64], Train Loss: 0.0651, Train Acc: 0.9915, Val Loss: 0.0696, Val Acc: 0.9876\n",
      "131529 131529\n",
      "Epoch [51/64], Train Loss: 0.0629, Train Acc: 0.9925, Val Loss: 0.0689, Val Acc: 0.9868\n",
      "134108 134108\n",
      "Epoch [52/64], Train Loss: 0.0604, Train Acc: 0.9931, Val Loss: 0.0672, Val Acc: 0.9868\n",
      "136687 136687\n",
      "Epoch [53/64], Train Loss: 0.0610, Train Acc: 0.9930, Val Loss: 0.0658, Val Acc: 0.9888\n",
      "139266 139266\n",
      "Epoch [54/64], Train Loss: 0.0568, Train Acc: 0.9943, Val Loss: 0.0645, Val Acc: 0.9884\n",
      "141845 141845\n",
      "Epoch [55/64], Train Loss: 0.0572, Train Acc: 0.9936, Val Loss: 0.0638, Val Acc: 0.9876\n",
      "144424 144424\n",
      "Epoch [56/64], Train Loss: 0.0546, Train Acc: 0.9943, Val Loss: 0.0621, Val Acc: 0.9876\n",
      "147003 147003\n",
      "Epoch [57/64], Train Loss: 0.0526, Train Acc: 0.9933, Val Loss: 0.0610, Val Acc: 0.9872\n",
      "149582 149582\n",
      "Epoch [58/64], Train Loss: 0.0547, Train Acc: 0.9935, Val Loss: 0.0621, Val Acc: 0.9884\n",
      "152161 152161\n",
      "Epoch [59/64], Train Loss: 0.0512, Train Acc: 0.9940, Val Loss: 0.0593, Val Acc: 0.9884\n",
      "154740 154740\n",
      "Epoch [60/64], Train Loss: 0.0503, Train Acc: 0.9938, Val Loss: 0.0588, Val Acc: 0.9891\n",
      "157319 157319\n",
      "Epoch [61/64], Train Loss: 0.0508, Train Acc: 0.9944, Val Loss: 0.0601, Val Acc: 0.9857\n",
      "159898 159898\n",
      "Epoch [62/64], Train Loss: 0.0501, Train Acc: 0.9944, Val Loss: 0.0563, Val Acc: 0.9872\n",
      "162477 162477\n",
      "Epoch [63/64], Train Loss: 0.0484, Train Acc: 0.9954, Val Loss: 0.0576, Val Acc: 0.9895\n",
      "165056 165056\n",
      "Epoch [64/64], Train Loss: 0.0469, Train Acc: 0.9951, Val Loss: 0.0550, Val Acc: 0.9888\n"
     ]
    }
   ],
   "source": [
    "# Train the model\n",
    "train_losses = []\n",
    "train_accs = []\n",
    "val_losses = []\n",
    "val_accs = []\n",
    "\n",
    "# Iterate over the validation dataset in batches\n",
    "train_predictions = np.array([])\n",
    "train_ground_truths = np.array([])\n",
    "\n",
    "for epoch in range(num_epochs):\n",
    "    # Training\n",
    "    resnet50.train()\n",
    "    train_loss = 0.0\n",
    "    train_total = 0\n",
    "    train_correct = 0\n",
    "    \n",
    "    for i, (images, labels) in enumerate(train_loader):\n",
    "        images = images.cuda()\n",
    "        labels = labels.cuda()\n",
    "        \n",
    "        optimizer.zero_grad()\n",
    "        \n",
    "        outputs = resnet50(images)\n",
    "        loss = criterion(outputs, labels)\n",
    "        loss.backward()\n",
    "        optimizer.step()\n",
    "        \n",
    "        train_loss += loss.item() * labels.size(0)\n",
    "        _, predicted = torch.max(outputs.data, 1)\n",
    "        train_total += labels.size(0)\n",
    "        train_correct += (predicted == labels).sum().item()\n",
    "        \n",
    "    train_losses.append(train_loss/train_total)\n",
    "    train_accs.append(train_correct/train_total)\n",
    "    \n",
    "    # Validation\n",
    "    resnet50.eval()\n",
    "    val_loss = 0.0\n",
    "    val_total = 0\n",
    "    val_correct = 0\n",
    "    \n",
    "    with torch.no_grad():\n",
    "        for images, labels in val_loader:\n",
    "            images = images.cuda()\n",
    "            labels = labels.cuda()\n",
    "            \n",
    "            outputs = resnet50(images)\n",
    "            loss = criterion(outputs, labels)\n",
    "\n",
    "            train_predictions = np.concatenate((train_predictions, predicted.cpu().numpy()))\n",
    "            train_ground_truths = np.concatenate((train_ground_truths, labels.cpu().numpy()))\n",
    "\n",
    "            \n",
    "            val_loss += loss.item() * labels.size(0)\n",
    "            _, predicted = torch.max(outputs.data, 1)\n",
    "            val_total += labels.size(0)\n",
    "            val_correct += (predicted == labels).sum().item()\n",
    "\n",
    "        # remove the extra predictions\n",
    "        if len(train_predictions) > len(train_ground_truths):\n",
    "            train_predictions = train_predictions[:len(train_ground_truths)]\n",
    "        elif len(train_predictions) < len(train_ground_truths):\n",
    "            train_ground_truths = train_ground_truths[:len(train_predictions)]\n",
    "\n",
    "        print(len(train_predictions), len(train_ground_truths))\n",
    "\n",
    "    # Convert predictions and true labels to numpy arrays\n",
    "    train_predictions = np.array(train_predictions)\n",
    "    train_ground_truths = np.array(train_ground_truths)\n",
    "    \n",
    "    val_losses.append(val_loss/val_total)\n",
    "    val_accs.append(val_correct/val_total)\n",
    "    \n",
    "    # Print epoch statistics\n",
    "    print('Epoch [{}/{}], Train Loss: {:.4f}, Train Acc: {:.4f}, Val Loss: {:.4f}, Val Acc: {:.4f}'\n",
    "          .format(epoch+1, num_epochs, train_losses[-1], train_accs[-1], val_losses[-1], val_accs[-1]))"
   ]
  },
  {
   "cell_type": "code",
   "execution_count": 67,
   "metadata": {},
   "outputs": [
    {
     "name": "stdout",
     "output_type": "stream",
     "text": [
      "Accuracy: 81.38%\n",
      "Precision: 81.65%\n",
      "Recall: 81.38%\n",
      "F1 Score: 81.44%\n"
     ]
    }
   ],
   "source": [
    "average_val = 'macro'\n",
    "\n",
    "accuracy = accuracy_score(train_ground_truths, train_predictions)\n",
    "precision = precision_score(train_ground_truths, train_predictions, average=average_val)\n",
    "recall = recall_score(train_ground_truths, train_predictions, average=average_val)\n",
    "f1 = f1_score(train_ground_truths, train_predictions, average=average_val)\n",
    "\n",
    "print(f\"Accuracy: {round(accuracy * 100, 2)}%\")\n",
    "print(f\"Precision: {round(precision * 100, 2)}%\")\n",
    "print(f\"Recall: {round(recall * 100, 2)}%\")\n",
    "print(f\"F1 Score: {round(f1 * 100, 2)}%\")"
   ]
  },
  {
   "attachments": {},
   "cell_type": "markdown",
   "metadata": {},
   "source": [
    "##### Plot losses and accuracy"
   ]
  },
  {
   "cell_type": "code",
   "execution_count": 68,
   "metadata": {},
   "outputs": [
    {
     "data": {
      "image/png": "[encoded data removed]",
      "text/plain": [
       "<Figure size 432x288 with 1 Axes>"
      ]
     },
     "metadata": {
      "needs_background": "light"
     },
     "output_type": "display_data"
    },
    {
     "data": {
      "image/png": "[encoded data removed]",
      "text/plain": [
       "<Figure size 432x288 with 1 Axes>"
      ]
     },
     "metadata": {
      "needs_background": "light"
     },
     "output_type": "display_data"
    }
   ],
   "source": [
    "#Losses\n",
    "plt.plot(train_losses, label='Train Loss')\n",
    "plt.plot(val_losses, label='Val Loss')\n",
    "plt.legend()\n",
    "plt.show()\n",
    "\n",
    "#Accuracy\n",
    "plt.plot(train_accs, label='Train Acc')\n",
    "plt.plot(val_accs, label='Val Acc')\n",
    "plt.legend()\n",
    "plt.show()"
   ]
  },
  {
   "attachments": {},
   "cell_type": "markdown",
   "metadata": {},
   "source": [
    "##### Calculate the confusion matrix"
   ]
  },
  {
   "cell_type": "code",
   "execution_count": 69,
   "metadata": {},
   "outputs": [
    {
     "data": {
      "image/png": "[encoded data removed]",
      "text/plain": [
       "<Figure size 1440x1440 with 2 Axes>"
      ]
     },
     "metadata": {
      "needs_background": "light"
     },
     "output_type": "display_data"
    }
   ],
   "source": [
    "cm = confusion_matrix(train_ground_truths, train_predictions)\n",
    "labels_category = ['0', '1', '2', '3', '4', '5', '6', '7', '8', '9']\n",
    "# Set figure size (width, height) in inches\n",
    "plt.figure(figsize=(20, 20))\n",
    "\n",
    "sns.heatmap(cm, annot=True, fmt='d', linewidths=.5, cmap='Blues', xticklabels= labels_category, yticklabels=labels_category)\n",
    "\n",
    "plt.ylabel('True label')\n",
    "plt.xlabel('Predicted label')\n",
    "plt.show()"
   ]
  },
  {
   "attachments": {},
   "cell_type": "markdown",
   "metadata": {},
   "source": [
    "### Testing Model"
   ]
  },
  {
   "attachments": {},
   "cell_type": "markdown",
   "metadata": {},
   "source": [
    "##### Set to evaluation mode"
   ]
  },
  {
   "cell_type": "code",
   "execution_count": 70,
   "metadata": {},
   "outputs": [],
   "source": [
    "# Set the model to evaluation mode\n",
    "resnet50.eval()\n",
    "\n",
    "# Keep track of the validation loss and accuracy\n",
    "test_loss = 0.0\n",
    "test_correct = 0\n",
    "test_total = 0"
   ]
  },
  {
   "attachments": {},
   "cell_type": "markdown",
   "metadata": {},
   "source": [
    "##### Test the model"
   ]
  },
  {
   "cell_type": "code",
   "execution_count": 71,
   "metadata": {},
   "outputs": [
    {
     "name": "stdout",
     "output_type": "stream",
     "text": [
      "Testing loss: 0.0540, accuracy: 98.97%\n"
     ]
    }
   ],
   "source": [
    "# Iterate over the validation dataset in batches\n",
    "test_predictions = np.array([])\n",
    "test_ground_truths = np.array([])\n",
    "\n",
    "for images, labels in test_loader:\n",
    "    images = images.cuda()\n",
    "    labels = labels.cuda()\n",
    "    # Forward pass\n",
    "    outputs = resnet50(images)\n",
    "    loss = criterion(outputs, labels)\n",
    "\n",
    "    # Update the validation loss\n",
    "    test_loss += loss.item() * labels.size(0)\n",
    "\n",
    "    test_predictions = np.concatenate((test_predictions, predicted.cpu().numpy()))\n",
    "    test_ground_truths = np.concatenate((test_ground_truths, labels.cpu().numpy()))\n",
    "\n",
    "    # test_predictions.extend(predicted.cpu().numpy())\n",
    "    # test_ground_truths.extend(labels.cpu().numpy())\n",
    "\n",
    "    # Update the testing accuracy\n",
    "    _, predicted = torch.max(outputs.data, 1)\n",
    "    test_total += labels.size(0)\n",
    "    test_correct += (predicted == labels).sum().item()\n",
    "\n",
    "# Compute the average testing loss and accuracy\n",
    "test_loss /= len(test_set)\n",
    "test_accuracy = 100 * test_correct / test_total\n",
    "\n",
    "# Print the testing loss and accuracy\n",
    "print(f'Testing loss: {test_loss:.4f}, accuracy: {test_accuracy:.2f}%')"
   ]
  },
  {
   "cell_type": "code",
   "execution_count": 77,
   "metadata": {},
   "outputs": [
    {
     "name": "stdout",
     "output_type": "stream",
     "text": [
      "Accuracy: 86.88%\n",
      "Precision: 86.89%\n",
      "Recall: 86.88%\n",
      "F1 Score: 86.88%\n"
     ]
    }
   ],
   "source": [
    "average_val = 'macro'\n",
    "\n",
    "min_length = min(len(test_ground_truths), len(test_predictions))\n",
    "test_ground_truths = test_ground_truths[:min_length]\n",
    "test_predictions = test_predictions[:min_length]\n",
    "accuracy = accuracy_score(test_ground_truths, test_predictions)\n",
    "precision = precision_score(test_ground_truths, test_predictions, average=average_val)\n",
    "recall = recall_score(test_ground_truths, test_predictions, average=average_val)\n",
    "f1 = f1_score(test_ground_truths, test_predictions, average=average_val)\n",
    "\n",
    "print(f\"Accuracy: {round(accuracy * 100, 2)}%\")\n",
    "print(f\"Precision: {round(precision * 100, 2)}%\")\n",
    "print(f\"Recall: {round(recall * 100, 2)}%\")\n",
    "print(f\"F1 Score: {round(f1 * 100, 2)}%\")"
   ]
  },
  {
   "attachments": {},
   "cell_type": "markdown",
   "metadata": {},
   "source": [
    "##### Calculate the confusion matrix"
   ]
  },
  {
   "cell_type": "code",
   "execution_count": 78,
   "metadata": {},
   "outputs": [
    {
     "data": {
      "image/png": "[encoded data removed]",
      "text/plain": [
       "<Figure size 1440x1440 with 2 Axes>"
      ]
     },
     "metadata": {
      "needs_background": "light"
     },
     "output_type": "display_data"
    }
   ],
   "source": [
    "# Calculate the confusion matrix\n",
    "cm = confusion_matrix(test_ground_truths, test_predictions)\n",
    "labels_category = ['0', '1', '2', '3', '4', '5', '6', '7', '8', '9']\n",
    "# sns.heatmap(cm, annot=True, fmt='d', cmap='Blues', xticklabels= labels_category, yticklabels=labels_category)\n",
    "\n",
    "# Set figure size (width, height) in inches\n",
    "plt.figure(figsize=(20, 20))\n",
    "\n",
    "sns.heatmap(cm, annot=True, fmt='d', linewidths=.5, cmap='Blues', xticklabels= labels_category, yticklabels=labels_category)\n",
    "\n",
    "plt.ylabel('True label')\n",
    "plt.xlabel('Predicted label')\n",
    "plt.show()"
   ]
  },
  {
   "attachments": {},
   "cell_type": "markdown",
   "metadata": {},
   "source": [
    "##### Save the model"
   ]
  },
  {
   "cell_type": "code",
   "execution_count": 79,
   "metadata": {},
   "outputs": [],
   "source": [
    "# Save the state_dict model to a file\n",
    "torch.save(resnet50.state_dict(), 'resnet50-letter-state-dict (new).pth')\n",
    "\n",
    "# Save the model to a file\n",
    "torch.save(resnet50, 'resnet50-letter(new).pth')"
   ]
  }
 ],
 "metadata": {
  "kernelspec": {
   "display_name": ".venv",
   "language": "python",
   "name": "python3"
  },
  "language_info": {
   "codemirror_mode": {
    "name": "ipython",
    "version": 3
   },
   "file_extension": ".py",
   "mimetype": "text/x-python",
   "name": "python",
   "nbconvert_exporter": "python",
   "pygments_lexer": "ipython3",
   "version": "3.9.5"
  },
  "orig_nbformat": 4
 },
 "nbformat": 4,
 "nbformat_minor": 2
}
