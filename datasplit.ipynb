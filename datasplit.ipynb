{
 "cells": [
  {
   "cell_type": "code",
   "execution_count": 5,
   "metadata": {},
   "outputs": [],
   "source": [
    "import os\n",
    "import shutil\n",
    "import random"
   ]
  },
  {
   "cell_type": "code",
   "execution_count": 6,
   "metadata": {},
   "outputs": [],
   "source": [
    "# Path to directory containing all images\n",
    "data_dir = './CNN letter Dataset/'\n",
    "\n",
    "# Path to directory to store training images\n",
    "train_dir = './data/train'\n",
    "\n",
    "# Path to directory to store validation images\n",
    "val_dir = './data/val'\n",
    "\n",
    "# Path to directory to store testing images\n",
    "test_dir = './data/test'"
   ]
  },
  {
   "cell_type": "code",
   "execution_count": 7,
   "metadata": {},
   "outputs": [],
   "source": [
    "# Percentage of images to use for training\n",
    "train_pct = 0.6\n",
    "\n",
    "# Percentage of images to use for validating\n",
    "val_pct = 0.25\n",
    "\n",
    "# Percentage of images to use for testing\n",
    "test_pct= 0.15"
   ]
  },
  {
   "cell_type": "code",
   "execution_count": 8,
   "metadata": {},
   "outputs": [],
   "source": [
    "# Loop over all subdirectories in data directory\n",
    "for subdir in os.listdir(data_dir):\n",
    "    subdir_path = os.path.join(data_dir, subdir)\n",
    "    if os.path.isdir(subdir_path):\n",
    "        # Create subdirectories in train and test directories\n",
    "        train_subdir_path = os.path.join(train_dir, subdir)\n",
    "        os.makedirs(train_subdir_path, exist_ok=True)\n",
    "        val_subdir_path = os.path.join(val_dir, subdir)\n",
    "        os.makedirs(val_subdir_path, exist_ok=True)\n",
    "        test_subdir_path = os.path.join(test_dir, subdir)\n",
    "        os.makedirs(test_subdir_path, exist_ok=True)\n",
    "        \n",
    "        # Loop over all images in subdirectory\n",
    "        image_files = os.listdir(subdir_path)\n",
    "        num_images = len(image_files)\n",
    "        random.shuffle(image_files)\n",
    "        train_filenames = image_files[:int(train_pct * num_images)]\n",
    "        val_filenames = image_files[int(train_pct * num_images):int((train_pct + val_pct) * num_images)]\n",
    "        test_filenames = image_files[int((train_pct + val_pct) * num_images):]\n",
    "        \n",
    "        # Move training images to train directory\n",
    "        for image_file in train_filenames:\n",
    "            src_path = os.path.join(subdir_path, image_file)\n",
    "            dst_path = os.path.join(train_subdir_path, image_file)\n",
    "            shutil.copy(src_path, dst_path)\n",
    "        \n",
    "        for image_file in val_filenames:\n",
    "            src_path = os.path.join(subdir_path, image_file)\n",
    "            dst_path = os.path.join(val_subdir_path, image_file)\n",
    "            shutil.copy(src_path, dst_path)\n",
    "\n",
    "        # Move testing images to test directory\n",
    "        for image_file in test_filenames:\n",
    "            src_path = os.path.join(subdir_path, image_file)\n",
    "            dst_path = os.path.join(test_subdir_path, image_file)\n",
    "            shutil.copy(src_path, dst_path)"
   ]
  }
 ],
 "metadata": {
  "kernelspec": {
   "display_name": "venv",
   "language": "python",
   "name": "python3"
  },
  "language_info": {
   "codemirror_mode": {
    "name": "ipython",
    "version": 3
   },
   "file_extension": ".py",
   "mimetype": "text/x-python",
   "name": "python",
   "nbconvert_exporter": "python",
   "pygments_lexer": "ipython3",
   "version": "3.9.11"
  },
  "orig_nbformat": 4
 },
 "nbformat": 4,
 "nbformat_minor": 2
}
