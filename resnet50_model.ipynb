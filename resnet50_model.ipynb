{
 "cells": [
  {
   "attachments": {},
   "cell_type": "markdown",
   "metadata": {},
   "source": [
    "### Import Dependencies"
   ]
  },
  {
   "cell_type": "code",
   "execution_count": 1,
   "metadata": {},
   "outputs": [],
   "source": [
    "import os\n",
    "import pathlib\n",
    "import numpy as np\n",
    "import matplotlib.pyplot as plt\n",
    "import torch\n",
    "import torch.nn as nn\n",
    "import torchvision.models as models\n",
    "from torchvision import datasets, transforms\n",
    "from sklearn.metrics import confusion_matrix\n",
    "import seaborn as sns"
   ]
  },
  {
   "cell_type": "code",
   "execution_count": 2,
   "metadata": {},
   "outputs": [
    {
     "data": {
      "text/plain": [
       "True"
      ]
     },
     "execution_count": 2,
     "metadata": {},
     "output_type": "execute_result"
    }
   ],
   "source": [
    "torch.cuda.is_available()"
   ]
  },
  {
   "attachments": {},
   "cell_type": "markdown",
   "metadata": {},
   "source": [
    "### Import Datasets and Get Classes"
   ]
  },
  {
   "cell_type": "code",
   "execution_count": 3,
   "metadata": {},
   "outputs": [
    {
     "name": "stdout",
     "output_type": "stream",
     "text": [
      "There are 3 directories and 0 images in Dataset\n",
      "There are 35 directories and 0 images in Dataset\\test\n",
      "There are 0 directories and 155 images in Dataset\\test\\0\n",
      "There are 0 directories and 155 images in Dataset\\test\\1\n",
      "There are 0 directories and 155 images in Dataset\\test\\2\n",
      "There are 0 directories and 155 images in Dataset\\test\\3\n",
      "There are 0 directories and 155 images in Dataset\\test\\4\n",
      "There are 0 directories and 155 images in Dataset\\test\\5\n",
      "There are 0 directories and 155 images in Dataset\\test\\6\n",
      "There are 0 directories and 155 images in Dataset\\test\\7\n",
      "There are 0 directories and 155 images in Dataset\\test\\8\n",
      "There are 0 directories and 155 images in Dataset\\test\\9\n",
      "There are 0 directories and 152 images in Dataset\\test\\A\n",
      "There are 0 directories and 155 images in Dataset\\test\\B\n",
      "There are 0 directories and 153 images in Dataset\\test\\C\n",
      "There are 0 directories and 152 images in Dataset\\test\\D\n",
      "There are 0 directories and 152 images in Dataset\\test\\E\n",
      "There are 0 directories and 153 images in Dataset\\test\\F\n",
      "There are 0 directories and 153 images in Dataset\\test\\G\n",
      "There are 0 directories and 153 images in Dataset\\test\\H\n",
      "There are 0 directories and 152 images in Dataset\\test\\I\n",
      "There are 0 directories and 155 images in Dataset\\test\\J\n",
      "There are 0 directories and 152 images in Dataset\\test\\K\n",
      "There are 0 directories and 152 images in Dataset\\test\\L\n",
      "There are 0 directories and 153 images in Dataset\\test\\M\n",
      "There are 0 directories and 153 images in Dataset\\test\\N\n",
      "There are 0 directories and 152 images in Dataset\\test\\P\n",
      "There are 0 directories and 152 images in Dataset\\test\\Q\n",
      "There are 0 directories and 153 images in Dataset\\test\\R\n",
      "There are 0 directories and 153 images in Dataset\\test\\S\n",
      "There are 0 directories and 153 images in Dataset\\test\\T\n",
      "There are 0 directories and 152 images in Dataset\\test\\U\n",
      "There are 0 directories and 155 images in Dataset\\test\\V\n",
      "There are 0 directories and 152 images in Dataset\\test\\W\n",
      "There are 0 directories and 152 images in Dataset\\test\\X\n",
      "There are 0 directories and 152 images in Dataset\\test\\Y\n",
      "There are 0 directories and 122 images in Dataset\\test\\Z\n",
      "There are 35 directories and 0 images in Dataset\\train\n",
      "There are 0 directories and 618 images in Dataset\\train\\0\n",
      "There are 0 directories and 618 images in Dataset\\train\\1\n",
      "There are 0 directories and 618 images in Dataset\\train\\2\n",
      "There are 0 directories and 618 images in Dataset\\train\\3\n",
      "There are 0 directories and 618 images in Dataset\\train\\4\n",
      "There are 0 directories and 618 images in Dataset\\train\\5\n",
      "There are 0 directories and 618 images in Dataset\\train\\6\n",
      "There are 0 directories and 618 images in Dataset\\train\\7\n",
      "There are 0 directories and 618 images in Dataset\\train\\8\n",
      "There are 0 directories and 618 images in Dataset\\train\\9\n",
      "There are 0 directories and 606 images in Dataset\\train\\A\n",
      "There are 0 directories and 618 images in Dataset\\train\\B\n",
      "There are 0 directories and 612 images in Dataset\\train\\C\n",
      "There are 0 directories and 606 images in Dataset\\train\\D\n",
      "There are 0 directories and 606 images in Dataset\\train\\E\n",
      "There are 0 directories and 612 images in Dataset\\train\\F\n",
      "There are 0 directories and 612 images in Dataset\\train\\G\n",
      "There are 0 directories and 612 images in Dataset\\train\\H\n",
      "There are 0 directories and 606 images in Dataset\\train\\I\n",
      "There are 0 directories and 618 images in Dataset\\train\\J\n",
      "There are 0 directories and 606 images in Dataset\\train\\K\n",
      "There are 0 directories and 606 images in Dataset\\train\\L\n",
      "There are 0 directories and 612 images in Dataset\\train\\M\n",
      "There are 0 directories and 612 images in Dataset\\train\\N\n",
      "There are 0 directories and 606 images in Dataset\\train\\P\n",
      "There are 0 directories and 606 images in Dataset\\train\\Q\n",
      "There are 0 directories and 612 images in Dataset\\train\\R\n",
      "There are 0 directories and 612 images in Dataset\\train\\S\n",
      "There are 0 directories and 612 images in Dataset\\train\\T\n",
      "There are 0 directories and 606 images in Dataset\\train\\U\n",
      "There are 0 directories and 618 images in Dataset\\train\\V\n",
      "There are 0 directories and 606 images in Dataset\\train\\W\n",
      "There are 0 directories and 606 images in Dataset\\train\\X\n",
      "There are 0 directories and 606 images in Dataset\\train\\Y\n",
      "There are 0 directories and 486 images in Dataset\\train\\Z\n",
      "There are 35 directories and 0 images in Dataset\\val\n",
      "There are 0 directories and 257 images in Dataset\\val\\0\n",
      "There are 0 directories and 257 images in Dataset\\val\\1\n",
      "There are 0 directories and 257 images in Dataset\\val\\2\n",
      "There are 0 directories and 257 images in Dataset\\val\\3\n",
      "There are 0 directories and 257 images in Dataset\\val\\4\n",
      "There are 0 directories and 257 images in Dataset\\val\\5\n",
      "There are 0 directories and 257 images in Dataset\\val\\6\n",
      "There are 0 directories and 257 images in Dataset\\val\\7\n",
      "There are 0 directories and 257 images in Dataset\\val\\8\n",
      "There are 0 directories and 257 images in Dataset\\val\\9\n",
      "There are 0 directories and 252 images in Dataset\\val\\A\n",
      "There are 0 directories and 257 images in Dataset\\val\\B\n",
      "There are 0 directories and 255 images in Dataset\\val\\C\n",
      "There are 0 directories and 252 images in Dataset\\val\\D\n",
      "There are 0 directories and 252 images in Dataset\\val\\E\n",
      "There are 0 directories and 255 images in Dataset\\val\\F\n",
      "There are 0 directories and 255 images in Dataset\\val\\G\n",
      "There are 0 directories and 255 images in Dataset\\val\\H\n",
      "There are 0 directories and 252 images in Dataset\\val\\I\n",
      "There are 0 directories and 257 images in Dataset\\val\\J\n",
      "There are 0 directories and 252 images in Dataset\\val\\K\n",
      "There are 0 directories and 252 images in Dataset\\val\\L\n",
      "There are 0 directories and 255 images in Dataset\\val\\M\n",
      "There are 0 directories and 255 images in Dataset\\val\\N\n",
      "There are 0 directories and 252 images in Dataset\\val\\P\n",
      "There are 0 directories and 252 images in Dataset\\val\\Q\n",
      "There are 0 directories and 255 images in Dataset\\val\\R\n",
      "There are 0 directories and 255 images in Dataset\\val\\S\n",
      "There are 0 directories and 255 images in Dataset\\val\\T\n",
      "There are 0 directories and 252 images in Dataset\\val\\U\n",
      "There are 0 directories and 257 images in Dataset\\val\\V\n",
      "There are 0 directories and 252 images in Dataset\\val\\W\n",
      "There are 0 directories and 252 images in Dataset\\val\\X\n",
      "There are 0 directories and 252 images in Dataset\\val\\Y\n",
      "There are 0 directories and 202 images in Dataset\\val\\Z\n",
      "['0' '1' '2' '3' '4' '5' '6' '7' '8' '9' 'A' 'B' 'C' 'D' 'E' 'F' 'G' 'H'\n",
      " 'I' 'J' 'K' 'L' 'M' 'N' 'P' 'Q' 'R' 'S' 'T' 'U' 'V' 'W' 'X' 'Y' 'Z']\n"
     ]
    }
   ],
   "source": [
    "for dirpath, dirnames, filenames in os.walk(\"Dataset\"):\n",
    "    print(f\"There are {len(dirnames)} directories and {len(filenames)} images in {dirpath}\")\n",
    "\n",
    "bean_class = len(os.listdir(\"Dataset/train\"))\n",
    "\n",
    "dataset_dir = pathlib.Path(\"Dataset/train\")\n",
    "class_names = np.array(sorted([item.name for item in dataset_dir.glob(\"*\")]))\n",
    "print(class_names)"
   ]
  },
  {
   "attachments": {},
   "cell_type": "markdown",
   "metadata": {},
   "source": [
    "### Data Preprocessing"
   ]
  },
  {
   "attachments": {},
   "cell_type": "markdown",
   "metadata": {},
   "source": [
    "##### Call the dataset"
   ]
  },
  {
   "cell_type": "code",
   "execution_count": 4,
   "metadata": {},
   "outputs": [],
   "source": [
    "resize_transform = transforms.Compose([\n",
    "    transforms.Resize((256, 256)),\n",
    "])\n",
    "\n",
    "image_dataset = datasets.ImageFolder(root='Dataset/train/',transform=resize_transform)"
   ]
  },
  {
   "attachments": {},
   "cell_type": "markdown",
   "metadata": {},
   "source": [
    "##### Show image example in each class"
   ]
  },
  {
   "cell_type": "code",
   "execution_count": 5,
   "metadata": {},
   "outputs": [],
   "source": [
    "# # Define the classes of your dataset\n",
    "# classes = image_dataset.classes\n",
    "\n",
    "# # Create a figure with subplots for each class\n",
    "# fig, axes = plt.subplots(1, 4, figsize=(10, 5))\n",
    "\n",
    "# # Loop through each class and plot the first image\n",
    "# for i, cls in enumerate(classes):\n",
    "#     # Get the indices of the images for this class\n",
    "#     indices = [j for j, (x, y) in enumerate(image_dataset) if y == i]\n",
    "#     # Get the first image for this class\n",
    "#     img = image_dataset[indices[0]][0]\n",
    "#     img = img.resize((256,256))\n",
    "#     # Plot the image on the corresponding subplot\n",
    "#     axes[i].imshow(img)\n",
    "#     axes[i].set_title(cls)\n",
    "\n",
    "# plt.show()"
   ]
  },
  {
   "attachments": {},
   "cell_type": "markdown",
   "metadata": {},
   "source": [
    "##### Create image preprocessing"
   ]
  },
  {
   "cell_type": "code",
   "execution_count": 6,
   "metadata": {},
   "outputs": [],
   "source": [
    "transform = transforms.Compose([\n",
    "    transforms.Resize((256, 256)),\n",
    "    transforms.RandomHorizontalFlip(),\n",
    "    transforms.ToTensor(),\n",
    "    transforms.Normalize( [0.485, 0.456, 0.406], [0.229, 0.224, 0.225]),\n",
    "])"
   ]
  },
  {
   "attachments": {},
   "cell_type": "markdown",
   "metadata": {},
   "source": [
    "##### Show image transformation"
   ]
  },
  {
   "cell_type": "code",
   "execution_count": 7,
   "metadata": {},
   "outputs": [
    {
     "name": "stderr",
     "output_type": "stream",
     "text": [
      "Clipping input data to the valid range for imshow with RGB data ([0..1] for floats or [0..255] for integers).\n"
     ]
    },
    {
     "data": {
      "image/png": "[encoded data removed]",
      "text/plain": [
       "<Figure size 720x360 with 2 Axes>"
      ]
     },
     "metadata": {
      "needs_background": "light"
     },
     "output_type": "display_data"
    }
   ],
   "source": [
    "example_image, _ = image_dataset[0]\n",
    "fig, ax = plt.subplots(1, 2, figsize=(10, 5))\n",
    "ax[0].imshow(example_image)\n",
    "ax[0].set_title('Before transform')\n",
    "transformed_image = transform(example_image)\n",
    "ax[1].imshow(transformed_image.permute(1, 2, 0))\n",
    "ax[1].set_title('After transform')\n",
    "plt.show()"
   ]
  },
  {
   "attachments": {},
   "cell_type": "markdown",
   "metadata": {},
   "source": [
    "### ResNet50 Model Building"
   ]
  },
  {
   "attachments": {},
   "cell_type": "markdown",
   "metadata": {},
   "source": [
    "##### Hyperparameter Setup"
   ]
  },
  {
   "cell_type": "code",
   "execution_count": 8,
   "metadata": {},
   "outputs": [],
   "source": [
    "num_classes = 35\n",
    "batch_size = 64\n",
    "num_epochs = 64\n",
    "learning_rate = 0.0001"
   ]
  },
  {
   "attachments": {},
   "cell_type": "markdown",
   "metadata": {},
   "source": [
    "##### Apply preprocessing to transform the dataset"
   ]
  },
  {
   "cell_type": "code",
   "execution_count": 9,
   "metadata": {},
   "outputs": [],
   "source": [
    "train_set = datasets.ImageFolder(root='Dataset/train/', transform=transform)\n",
    "train_loader = torch.utils.data.DataLoader(train_set, batch_size=batch_size, shuffle=True)\n",
    "\n",
    "val_set = datasets.ImageFolder(root='Dataset/val/', transform=transform)\n",
    "val_loader = torch.utils.data.DataLoader(val_set, batch_size=batch_size, shuffle=False)\n",
    "\n",
    "test_set = datasets.ImageFolder(root='Dataset/test/', transform=transform)\n",
    "test_loader = torch.utils.data.DataLoader(test_set, batch_size=batch_size, shuffle=False)"
   ]
  },
  {
   "attachments": {},
   "cell_type": "markdown",
   "metadata": {},
   "source": [
    "##### Load pre-trained ResNet50 model"
   ]
  },
  {
   "cell_type": "code",
   "execution_count": 10,
   "metadata": {},
   "outputs": [],
   "source": [
    "resnet50 = models.resnet50(pretrained=True)"
   ]
  },
  {
   "cell_type": "code",
   "execution_count": 11,
   "metadata": {},
   "outputs": [],
   "source": [
    "# Freeze all layers in the pre-trained model\n",
    "for param in resnet50.parameters():\n",
    "    param.requires_grad = False"
   ]
  },
  {
   "cell_type": "code",
   "execution_count": 12,
   "metadata": {},
   "outputs": [],
   "source": [
    "# Replace the last fully connected layer with a new one\n",
    "num_ftrs = resnet50.fc.in_features\n",
    "resnet50.fc = nn.Linear(num_ftrs, num_classes)"
   ]
  },
  {
   "attachments": {},
   "cell_type": "markdown",
   "metadata": {},
   "source": [
    "##### Define loss function and optimizer"
   ]
  },
  {
   "cell_type": "code",
   "execution_count": 13,
   "metadata": {},
   "outputs": [
    {
     "data": {
      "text/plain": [
       "ResNet(\n",
       "  (conv1): Conv2d(3, 64, kernel_size=(7, 7), stride=(2, 2), padding=(3, 3), bias=False)\n",
       "  (bn1): BatchNorm2d(64, eps=1e-05, momentum=0.1, affine=True, track_running_stats=True)\n",
       "  (relu): ReLU(inplace=True)\n",
       "  (maxpool): MaxPool2d(kernel_size=3, stride=2, padding=1, dilation=1, ceil_mode=False)\n",
       "  (layer1): Sequential(\n",
       "    (0): Bottleneck(\n",
       "      (conv1): Conv2d(64, 64, kernel_size=(1, 1), stride=(1, 1), bias=False)\n",
       "      (bn1): BatchNorm2d(64, eps=1e-05, momentum=0.1, affine=True, track_running_stats=True)\n",
       "      (conv2): Conv2d(64, 64, kernel_size=(3, 3), stride=(1, 1), padding=(1, 1), bias=False)\n",
       "      (bn2): BatchNorm2d(64, eps=1e-05, momentum=0.1, affine=True, track_running_stats=True)\n",
       "      (conv3): Conv2d(64, 256, kernel_size=(1, 1), stride=(1, 1), bias=False)\n",
       "      (bn3): BatchNorm2d(256, eps=1e-05, momentum=0.1, affine=True, track_running_stats=True)\n",
       "      (relu): ReLU(inplace=True)\n",
       "      (downsample): Sequential(\n",
       "        (0): Conv2d(64, 256, kernel_size=(1, 1), stride=(1, 1), bias=False)\n",
       "        (1): BatchNorm2d(256, eps=1e-05, momentum=0.1, affine=True, track_running_stats=True)\n",
       "      )\n",
       "    )\n",
       "    (1): Bottleneck(\n",
       "      (conv1): Conv2d(256, 64, kernel_size=(1, 1), stride=(1, 1), bias=False)\n",
       "      (bn1): BatchNorm2d(64, eps=1e-05, momentum=0.1, affine=True, track_running_stats=True)\n",
       "      (conv2): Conv2d(64, 64, kernel_size=(3, 3), stride=(1, 1), padding=(1, 1), bias=False)\n",
       "      (bn2): BatchNorm2d(64, eps=1e-05, momentum=0.1, affine=True, track_running_stats=True)\n",
       "      (conv3): Conv2d(64, 256, kernel_size=(1, 1), stride=(1, 1), bias=False)\n",
       "      (bn3): BatchNorm2d(256, eps=1e-05, momentum=0.1, affine=True, track_running_stats=True)\n",
       "      (relu): ReLU(inplace=True)\n",
       "    )\n",
       "    (2): Bottleneck(\n",
       "      (conv1): Conv2d(256, 64, kernel_size=(1, 1), stride=(1, 1), bias=False)\n",
       "      (bn1): BatchNorm2d(64, eps=1e-05, momentum=0.1, affine=True, track_running_stats=True)\n",
       "      (conv2): Conv2d(64, 64, kernel_size=(3, 3), stride=(1, 1), padding=(1, 1), bias=False)\n",
       "      (bn2): BatchNorm2d(64, eps=1e-05, momentum=0.1, affine=True, track_running_stats=True)\n",
       "      (conv3): Conv2d(64, 256, kernel_size=(1, 1), stride=(1, 1), bias=False)\n",
       "      (bn3): BatchNorm2d(256, eps=1e-05, momentum=0.1, affine=True, track_running_stats=True)\n",
       "      (relu): ReLU(inplace=True)\n",
       "    )\n",
       "  )\n",
       "  (layer2): Sequential(\n",
       "    (0): Bottleneck(\n",
       "      (conv1): Conv2d(256, 128, kernel_size=(1, 1), stride=(1, 1), bias=False)\n",
       "      (bn1): BatchNorm2d(128, eps=1e-05, momentum=0.1, affine=True, track_running_stats=True)\n",
       "      (conv2): Conv2d(128, 128, kernel_size=(3, 3), stride=(2, 2), padding=(1, 1), bias=False)\n",
       "      (bn2): BatchNorm2d(128, eps=1e-05, momentum=0.1, affine=True, track_running_stats=True)\n",
       "      (conv3): Conv2d(128, 512, kernel_size=(1, 1), stride=(1, 1), bias=False)\n",
       "      (bn3): BatchNorm2d(512, eps=1e-05, momentum=0.1, affine=True, track_running_stats=True)\n",
       "      (relu): ReLU(inplace=True)\n",
       "      (downsample): Sequential(\n",
       "        (0): Conv2d(256, 512, kernel_size=(1, 1), stride=(2, 2), bias=False)\n",
       "        (1): BatchNorm2d(512, eps=1e-05, momentum=0.1, affine=True, track_running_stats=True)\n",
       "      )\n",
       "    )\n",
       "    (1): Bottleneck(\n",
       "      (conv1): Conv2d(512, 128, kernel_size=(1, 1), stride=(1, 1), bias=False)\n",
       "      (bn1): BatchNorm2d(128, eps=1e-05, momentum=0.1, affine=True, track_running_stats=True)\n",
       "      (conv2): Conv2d(128, 128, kernel_size=(3, 3), stride=(1, 1), padding=(1, 1), bias=False)\n",
       "      (bn2): BatchNorm2d(128, eps=1e-05, momentum=0.1, affine=True, track_running_stats=True)\n",
       "      (conv3): Conv2d(128, 512, kernel_size=(1, 1), stride=(1, 1), bias=False)\n",
       "      (bn3): BatchNorm2d(512, eps=1e-05, momentum=0.1, affine=True, track_running_stats=True)\n",
       "      (relu): ReLU(inplace=True)\n",
       "    )\n",
       "    (2): Bottleneck(\n",
       "      (conv1): Conv2d(512, 128, kernel_size=(1, 1), stride=(1, 1), bias=False)\n",
       "      (bn1): BatchNorm2d(128, eps=1e-05, momentum=0.1, affine=True, track_running_stats=True)\n",
       "      (conv2): Conv2d(128, 128, kernel_size=(3, 3), stride=(1, 1), padding=(1, 1), bias=False)\n",
       "      (bn2): BatchNorm2d(128, eps=1e-05, momentum=0.1, affine=True, track_running_stats=True)\n",
       "      (conv3): Conv2d(128, 512, kernel_size=(1, 1), stride=(1, 1), bias=False)\n",
       "      (bn3): BatchNorm2d(512, eps=1e-05, momentum=0.1, affine=True, track_running_stats=True)\n",
       "      (relu): ReLU(inplace=True)\n",
       "    )\n",
       "    (3): Bottleneck(\n",
       "      (conv1): Conv2d(512, 128, kernel_size=(1, 1), stride=(1, 1), bias=False)\n",
       "      (bn1): BatchNorm2d(128, eps=1e-05, momentum=0.1, affine=True, track_running_stats=True)\n",
       "      (conv2): Conv2d(128, 128, kernel_size=(3, 3), stride=(1, 1), padding=(1, 1), bias=False)\n",
       "      (bn2): BatchNorm2d(128, eps=1e-05, momentum=0.1, affine=True, track_running_stats=True)\n",
       "      (conv3): Conv2d(128, 512, kernel_size=(1, 1), stride=(1, 1), bias=False)\n",
       "      (bn3): BatchNorm2d(512, eps=1e-05, momentum=0.1, affine=True, track_running_stats=True)\n",
       "      (relu): ReLU(inplace=True)\n",
       "    )\n",
       "  )\n",
       "  (layer3): Sequential(\n",
       "    (0): Bottleneck(\n",
       "      (conv1): Conv2d(512, 256, kernel_size=(1, 1), stride=(1, 1), bias=False)\n",
       "      (bn1): BatchNorm2d(256, eps=1e-05, momentum=0.1, affine=True, track_running_stats=True)\n",
       "      (conv2): Conv2d(256, 256, kernel_size=(3, 3), stride=(2, 2), padding=(1, 1), bias=False)\n",
       "      (bn2): BatchNorm2d(256, eps=1e-05, momentum=0.1, affine=True, track_running_stats=True)\n",
       "      (conv3): Conv2d(256, 1024, kernel_size=(1, 1), stride=(1, 1), bias=False)\n",
       "      (bn3): BatchNorm2d(1024, eps=1e-05, momentum=0.1, affine=True, track_running_stats=True)\n",
       "      (relu): ReLU(inplace=True)\n",
       "      (downsample): Sequential(\n",
       "        (0): Conv2d(512, 1024, kernel_size=(1, 1), stride=(2, 2), bias=False)\n",
       "        (1): BatchNorm2d(1024, eps=1e-05, momentum=0.1, affine=True, track_running_stats=True)\n",
       "      )\n",
       "    )\n",
       "    (1): Bottleneck(\n",
       "      (conv1): Conv2d(1024, 256, kernel_size=(1, 1), stride=(1, 1), bias=False)\n",
       "      (bn1): BatchNorm2d(256, eps=1e-05, momentum=0.1, affine=True, track_running_stats=True)\n",
       "      (conv2): Conv2d(256, 256, kernel_size=(3, 3), stride=(1, 1), padding=(1, 1), bias=False)\n",
       "      (bn2): BatchNorm2d(256, eps=1e-05, momentum=0.1, affine=True, track_running_stats=True)\n",
       "      (conv3): Conv2d(256, 1024, kernel_size=(1, 1), stride=(1, 1), bias=False)\n",
       "      (bn3): BatchNorm2d(1024, eps=1e-05, momentum=0.1, affine=True, track_running_stats=True)\n",
       "      (relu): ReLU(inplace=True)\n",
       "    )\n",
       "    (2): Bottleneck(\n",
       "      (conv1): Conv2d(1024, 256, kernel_size=(1, 1), stride=(1, 1), bias=False)\n",
       "      (bn1): BatchNorm2d(256, eps=1e-05, momentum=0.1, affine=True, track_running_stats=True)\n",
       "      (conv2): Conv2d(256, 256, kernel_size=(3, 3), stride=(1, 1), padding=(1, 1), bias=False)\n",
       "      (bn2): BatchNorm2d(256, eps=1e-05, momentum=0.1, affine=True, track_running_stats=True)\n",
       "      (conv3): Conv2d(256, 1024, kernel_size=(1, 1), stride=(1, 1), bias=False)\n",
       "      (bn3): BatchNorm2d(1024, eps=1e-05, momentum=0.1, affine=True, track_running_stats=True)\n",
       "      (relu): ReLU(inplace=True)\n",
       "    )\n",
       "    (3): Bottleneck(\n",
       "      (conv1): Conv2d(1024, 256, kernel_size=(1, 1), stride=(1, 1), bias=False)\n",
       "      (bn1): BatchNorm2d(256, eps=1e-05, momentum=0.1, affine=True, track_running_stats=True)\n",
       "      (conv2): Conv2d(256, 256, kernel_size=(3, 3), stride=(1, 1), padding=(1, 1), bias=False)\n",
       "      (bn2): BatchNorm2d(256, eps=1e-05, momentum=0.1, affine=True, track_running_stats=True)\n",
       "      (conv3): Conv2d(256, 1024, kernel_size=(1, 1), stride=(1, 1), bias=False)\n",
       "      (bn3): BatchNorm2d(1024, eps=1e-05, momentum=0.1, affine=True, track_running_stats=True)\n",
       "      (relu): ReLU(inplace=True)\n",
       "    )\n",
       "    (4): Bottleneck(\n",
       "      (conv1): Conv2d(1024, 256, kernel_size=(1, 1), stride=(1, 1), bias=False)\n",
       "      (bn1): BatchNorm2d(256, eps=1e-05, momentum=0.1, affine=True, track_running_stats=True)\n",
       "      (conv2): Conv2d(256, 256, kernel_size=(3, 3), stride=(1, 1), padding=(1, 1), bias=False)\n",
       "      (bn2): BatchNorm2d(256, eps=1e-05, momentum=0.1, affine=True, track_running_stats=True)\n",
       "      (conv3): Conv2d(256, 1024, kernel_size=(1, 1), stride=(1, 1), bias=False)\n",
       "      (bn3): BatchNorm2d(1024, eps=1e-05, momentum=0.1, affine=True, track_running_stats=True)\n",
       "      (relu): ReLU(inplace=True)\n",
       "    )\n",
       "    (5): Bottleneck(\n",
       "      (conv1): Conv2d(1024, 256, kernel_size=(1, 1), stride=(1, 1), bias=False)\n",
       "      (bn1): BatchNorm2d(256, eps=1e-05, momentum=0.1, affine=True, track_running_stats=True)\n",
       "      (conv2): Conv2d(256, 256, kernel_size=(3, 3), stride=(1, 1), padding=(1, 1), bias=False)\n",
       "      (bn2): BatchNorm2d(256, eps=1e-05, momentum=0.1, affine=True, track_running_stats=True)\n",
       "      (conv3): Conv2d(256, 1024, kernel_size=(1, 1), stride=(1, 1), bias=False)\n",
       "      (bn3): BatchNorm2d(1024, eps=1e-05, momentum=0.1, affine=True, track_running_stats=True)\n",
       "      (relu): ReLU(inplace=True)\n",
       "    )\n",
       "  )\n",
       "  (layer4): Sequential(\n",
       "    (0): Bottleneck(\n",
       "      (conv1): Conv2d(1024, 512, kernel_size=(1, 1), stride=(1, 1), bias=False)\n",
       "      (bn1): BatchNorm2d(512, eps=1e-05, momentum=0.1, affine=True, track_running_stats=True)\n",
       "      (conv2): Conv2d(512, 512, kernel_size=(3, 3), stride=(2, 2), padding=(1, 1), bias=False)\n",
       "      (bn2): BatchNorm2d(512, eps=1e-05, momentum=0.1, affine=True, track_running_stats=True)\n",
       "      (conv3): Conv2d(512, 2048, kernel_size=(1, 1), stride=(1, 1), bias=False)\n",
       "      (bn3): BatchNorm2d(2048, eps=1e-05, momentum=0.1, affine=True, track_running_stats=True)\n",
       "      (relu): ReLU(inplace=True)\n",
       "      (downsample): Sequential(\n",
       "        (0): Conv2d(1024, 2048, kernel_size=(1, 1), stride=(2, 2), bias=False)\n",
       "        (1): BatchNorm2d(2048, eps=1e-05, momentum=0.1, affine=True, track_running_stats=True)\n",
       "      )\n",
       "    )\n",
       "    (1): Bottleneck(\n",
       "      (conv1): Conv2d(2048, 512, kernel_size=(1, 1), stride=(1, 1), bias=False)\n",
       "      (bn1): BatchNorm2d(512, eps=1e-05, momentum=0.1, affine=True, track_running_stats=True)\n",
       "      (conv2): Conv2d(512, 512, kernel_size=(3, 3), stride=(1, 1), padding=(1, 1), bias=False)\n",
       "      (bn2): BatchNorm2d(512, eps=1e-05, momentum=0.1, affine=True, track_running_stats=True)\n",
       "      (conv3): Conv2d(512, 2048, kernel_size=(1, 1), stride=(1, 1), bias=False)\n",
       "      (bn3): BatchNorm2d(2048, eps=1e-05, momentum=0.1, affine=True, track_running_stats=True)\n",
       "      (relu): ReLU(inplace=True)\n",
       "    )\n",
       "    (2): Bottleneck(\n",
       "      (conv1): Conv2d(2048, 512, kernel_size=(1, 1), stride=(1, 1), bias=False)\n",
       "      (bn1): BatchNorm2d(512, eps=1e-05, momentum=0.1, affine=True, track_running_stats=True)\n",
       "      (conv2): Conv2d(512, 512, kernel_size=(3, 3), stride=(1, 1), padding=(1, 1), bias=False)\n",
       "      (bn2): BatchNorm2d(512, eps=1e-05, momentum=0.1, affine=True, track_running_stats=True)\n",
       "      (conv3): Conv2d(512, 2048, kernel_size=(1, 1), stride=(1, 1), bias=False)\n",
       "      (bn3): BatchNorm2d(2048, eps=1e-05, momentum=0.1, affine=True, track_running_stats=True)\n",
       "      (relu): ReLU(inplace=True)\n",
       "    )\n",
       "  )\n",
       "  (avgpool): AdaptiveAvgPool2d(output_size=(1, 1))\n",
       "  (fc): Linear(in_features=2048, out_features=35, bias=True)\n",
       ")"
      ]
     },
     "execution_count": 13,
     "metadata": {},
     "output_type": "execute_result"
    }
   ],
   "source": [
    "criterion = nn.CrossEntropyLoss()\n",
    "optimizer = torch.optim.Adam(resnet50.fc.parameters(), lr=learning_rate)\n",
    "\n",
    "device = torch.device(\"cuda\" if torch.cuda.is_available() else \"cpu\")\n",
    "resnet50.to(device)"
   ]
  },
  {
   "attachments": {},
   "cell_type": "markdown",
   "metadata": {},
   "source": [
    "### Train and Validate Model"
   ]
  },
  {
   "attachments": {},
   "cell_type": "markdown",
   "metadata": {},
   "source": [
    "##### Train the model"
   ]
  },
  {
   "cell_type": "code",
   "execution_count": 14,
   "metadata": {},
   "outputs": [
    {
     "name": "stdout",
     "output_type": "stream",
     "text": [
      "Epoch [1/64], Train Loss: 2.9049, Train Acc: 0.4098, Val Loss: 2.3413, Val Acc: 0.6566\n",
      "Epoch [2/64], Train Loss: 2.0155, Train Acc: 0.7128, Val Loss: 1.7092, Val Acc: 0.7552\n",
      "Epoch [3/64], Train Loss: 1.5338, Train Acc: 0.7829, Val Loss: 1.3521, Val Acc: 0.8051\n",
      "Epoch [4/64], Train Loss: 1.2456, Train Acc: 0.8155, Val Loss: 1.1151, Val Acc: 0.8384\n",
      "Epoch [5/64], Train Loss: 1.0515, Train Acc: 0.8425, Val Loss: 0.9553, Val Acc: 0.8585\n",
      "Epoch [6/64], Train Loss: 0.9156, Train Acc: 0.8591, Val Loss: 0.8348, Val Acc: 0.8727\n",
      "Epoch [7/64], Train Loss: 0.8131, Train Acc: 0.8744, Val Loss: 0.7456, Val Acc: 0.8840\n"
     ]
    }
   ],
   "source": [
    "# Train the model\n",
    "train_losses = []\n",
    "train_accs = []\n",
    "val_losses = []\n",
    "val_accs = []\n",
    "\n",
    "# Iterate over the validation dataset in batches\n",
    "train_predictions = np.array([])\n",
    "train_ground_truths = np.array([])\n",
    "\n",
    "for epoch in range(num_epochs):\n",
    "    # Training\n",
    "    resnet50.train()\n",
    "    train_loss = 0.0\n",
    "    train_total = 0\n",
    "    train_correct = 0\n",
    "    \n",
    "    for i, (images, labels) in enumerate(train_loader):\n",
    "        images = images.cuda()\n",
    "        labels = labels.cuda()\n",
    "        \n",
    "        optimizer.zero_grad()\n",
    "        \n",
    "        outputs = resnet50(images)\n",
    "        loss = criterion(outputs, labels)\n",
    "        loss.backward()\n",
    "        optimizer.step()\n",
    "        \n",
    "        train_loss += loss.item() * labels.size(0)\n",
    "        _, predicted = torch.max(outputs.data, 1)\n",
    "        train_total += labels.size(0)\n",
    "        train_correct += (predicted == labels).sum().item()\n",
    "        \n",
    "    train_losses.append(train_loss/train_total)\n",
    "    train_accs.append(train_correct/train_total)\n",
    "    \n",
    "    # Validation\n",
    "    resnet50.eval()\n",
    "    val_loss = 0.0\n",
    "    val_total = 0\n",
    "    val_correct = 0\n",
    "    \n",
    "    with torch.no_grad():\n",
    "        for images, labels in val_loader:\n",
    "            images = images.cuda()\n",
    "            labels = labels.cuda()\n",
    "            \n",
    "            outputs = resnet50(images)\n",
    "            loss = criterion(outputs, labels)\n",
    "\n",
    "            train_predictions = np.concatenate((train_predictions, predicted.cpu().numpy()))\n",
    "            train_ground_truths = np.concatenate((train_ground_truths, labels.cpu().numpy()))\n",
    "\n",
    "            \n",
    "            val_loss += loss.item() * labels.size(0)\n",
    "            _, predicted = torch.max(outputs.data, 1)\n",
    "            val_total += labels.size(0)\n",
    "            val_correct += (predicted == labels).sum().item()\n",
    "\n",
    "        # remove the extra predictions\n",
    "        if len(train_predictions) > len(train_ground_truths):\n",
    "            train_predictions = train_predictions[:len(train_ground_truths)]\n",
    "\n",
    "    # Convert predictions and true labels to numpy arrays\n",
    "    train_predictions = np.array(train_predictions)\n",
    "    train_ground_truths = np.array(train_ground_truths)\n",
    "    \n",
    "    val_losses.append(val_loss/val_total)\n",
    "    val_accs.append(val_correct/val_total)\n",
    "    \n",
    "    # Print epoch statistics\n",
    "    print('Epoch [{}/{}], Train Loss: {:.4f}, Train Acc: {:.4f}, Val Loss: {:.4f}, Val Acc: {:.4f}'\n",
    "          .format(epoch+1, num_epochs, train_losses[-1], train_accs[-1], val_losses[-1], val_accs[-1]))"
   ]
  },
  {
   "attachments": {},
   "cell_type": "markdown",
   "metadata": {},
   "source": [
    "##### Plot losses and accuracy"
   ]
  },
  {
   "cell_type": "code",
   "execution_count": null,
   "metadata": {},
   "outputs": [],
   "source": [
    "plt.plot(train_losses, label='Train Loss')\n",
    "plt.plot(val_losses, label='Val Loss')\n",
    "plt.legend()\n",
    "plt.show()\n",
    "\n",
    "plt.plot(train_accs, label='Train Acc')\n",
    "plt.plot(val_accs, label='Val Acc')\n",
    "plt.legend()\n",
    "plt.show()"
   ]
  },
  {
   "attachments": {},
   "cell_type": "markdown",
   "metadata": {},
   "source": [
    "##### Calculate the confusion matrix"
   ]
  },
  {
   "cell_type": "code",
   "execution_count": null,
   "metadata": {},
   "outputs": [],
   "source": [
    "cm = confusion_matrix(train_ground_truths, train_predictions)\n",
    "labels_category = ['Dark', 'Green', 'Light', 'Medium']\n",
    "sns.heatmap(cm, annot=True, fmt='d', cmap='Blues', xticklabels= labels_category, yticklabels=labels_category)"
   ]
  },
  {
   "attachments": {},
   "cell_type": "markdown",
   "metadata": {},
   "source": [
    "### Testing Model"
   ]
  },
  {
   "attachments": {},
   "cell_type": "markdown",
   "metadata": {},
   "source": [
    "##### Set to evaluation mode"
   ]
  },
  {
   "cell_type": "code",
   "execution_count": null,
   "metadata": {},
   "outputs": [],
   "source": [
    "# Set the model to evaluation mode\n",
    "resnet50.eval()\n",
    "\n",
    "# Keep track of the validation loss and accuracy\n",
    "test_loss = 0.0\n",
    "test_correct = 0\n",
    "test_total = 0"
   ]
  },
  {
   "attachments": {},
   "cell_type": "markdown",
   "metadata": {},
   "source": [
    "##### Test the model"
   ]
  },
  {
   "cell_type": "code",
   "execution_count": null,
   "metadata": {},
   "outputs": [],
   "source": [
    "# Iterate over the validation dataset in batches\n",
    "test_predictions = []\n",
    "test_ground_truths = []\n",
    "\n",
    "for images, labels in test_loader:\n",
    "    images = images.cuda()\n",
    "    labels = labels.cuda()\n",
    "    # Forward pass\n",
    "    outputs = resnet50(images)\n",
    "    loss = criterion(outputs, labels)\n",
    "\n",
    "    # Update the validation loss\n",
    "    test_loss += loss.item() * labels.size(0)\n",
    "\n",
    "    test_predictions.extend(predicted.cpu().numpy())\n",
    "    test_ground_truths.extend(labels.cpu().numpy())\n",
    "\n",
    "    # Update the testing accuracy\n",
    "    _, predicted = torch.max(outputs.data, 1)\n",
    "    test_total += labels.size(0)\n",
    "    test_correct += (predicted == labels).sum().item()\n",
    "\n",
    "# Compute the average testing loss and accuracy\n",
    "test_loss /= len(test_set)\n",
    "test_accuracy = 100 * test_correct / test_total\n",
    "\n",
    "# Print the testing loss and accuracy\n",
    "print(f'Testing loss: {test_loss:.4f}, accuracy: {test_accuracy:.2f}%')"
   ]
  },
  {
   "attachments": {},
   "cell_type": "markdown",
   "metadata": {},
   "source": [
    "##### Calculate the confusion matrix"
   ]
  },
  {
   "cell_type": "code",
   "execution_count": null,
   "metadata": {},
   "outputs": [],
   "source": [
    "# Calculate the confusion matrix\n",
    "cm = confusion_matrix(test_ground_truths, test_predictions)\n",
    "labels_category = ['Dark', 'Green', 'Light', 'Medium']\n",
    "sns.heatmap(cm, annot=True, fmt='d', cmap='Blues', xticklabels= labels_category, yticklabels=labels_category)"
   ]
  },
  {
   "attachments": {},
   "cell_type": "markdown",
   "metadata": {},
   "source": [
    "##### Save the model"
   ]
  },
  {
   "cell_type": "code",
   "execution_count": null,
   "metadata": {},
   "outputs": [],
   "source": [
    "# Save the state_dict model to a file\n",
    "torch.save(resnet50.state_dict(), 'resnet50-coffee-roast-level-state-dict.pth')\n",
    "\n",
    "# Save the model to a file\n",
    "torch.save(resnet50, 'resnet50-coffee-roast-level.pth')"
   ]
  }
 ],
 "metadata": {
  "kernelspec": {
   "display_name": ".venv",
   "language": "python",
   "name": "python3"
  },
  "language_info": {
   "codemirror_mode": {
    "name": "ipython",
    "version": 3
   },
   "file_extension": ".py",
   "mimetype": "text/x-python",
   "name": "python",
   "nbconvert_exporter": "python",
   "pygments_lexer": "ipython3",
   "version": "3.9.5"
  },
  "orig_nbformat": 4
 },
 "nbformat": 4,
 "nbformat_minor": 2
}
