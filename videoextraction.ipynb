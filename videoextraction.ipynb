{
 "cells": [
  {
   "cell_type": "code",
   "execution_count": 15,
   "metadata": {},
   "outputs": [],
   "source": [
    "import cv2\n",
    "import os\n",
    "import shutil\n",
    "import imutils\n",
    "from skimage.io import imread\n",
    "from skimage import measure\n",
    "from skimage.filters import threshold_otsu\n",
    "import matplotlib.pyplot as plt\n",
    "from skimage.measure import regionprops\n",
    "import matplotlib.patches as patches"
   ]
  },
  {
   "cell_type": "code",
   "execution_count": 16,
   "metadata": {},
   "outputs": [],
   "source": [
    "# buka video\n",
    "video = cv2.VideoCapture('Video\\MVI_0084.MOV')\n",
    "\n",
    "# buat variabel untuk menghitung jumlah frame\n",
    "frame_count = 0\n",
    "\n"
   ]
  },
  {
   "cell_type": "code",
   "execution_count": 17,
   "metadata": {},
   "outputs": [],
   "source": [
    "if os.path.exists('output1'):\n",
    "    shutil.rmtree('output1')\n",
    "\n",
    "os.makedirs('output1')"
   ]
  },
  {
   "cell_type": "code",
   "execution_count": 18,
   "metadata": {},
   "outputs": [],
   "source": [
    "# loop untuk membaca setiap frame dari video\n",
    "while True:\n",
    "    # baca setiap frame dari video\n",
    "    ret, frame = video.read()\n",
    "\n",
    "    # keluar dari loop jika sudah mencapai akhir video\n",
    "    if not ret:\n",
    "        break\n",
    "\n",
    "    # ambil setiap 30 frame\n",
    "    if frame_count % 15 == 0:\n",
    "        # buat nama file untuk setiap frame\n",
    "        cv2.imshow('window-name',frame)\n",
    "        cv2.imwrite(\"./output1/frame%d.jpg\" % frame_count, frame)\n",
    "\n",
    "    # tambahkan 1 ke frame count\n",
    "    frame_count += 1\n",
    "\n",
    "# tutup video\n",
    "video.release()\n",
    "cv2.destroyAllWindows()"
   ]
  },
  {
   "cell_type": "code",
   "execution_count": 37,
   "metadata": {},
   "outputs": [
    {
     "name": "stdout",
     "output_type": "stream",
     "text": [
      "(1080, 1920, 3)\n"
     ]
    }
   ],
   "source": [
    "# car image -> grayscale image -> binary image\n",
    "car_image = imread(\"./output1/frame%d.jpg\"%(frame_count-13))\n",
    "# car_image = imutils.rotate(car_image, 270)\n",
    "# car_image = imread(\"car.png\", as_gray=True)\n",
    "# it should be a 2 dimensional array\n",
    "print(car_image.shape)\n"
   ]
  },
  {
   "cell_type": "code",
   "execution_count": 38,
   "metadata": {},
   "outputs": [],
   "source": [
    "\n",
    "# convert to grayscale\n",
    "gray = cv2.cvtColor(car_image, cv2.COLOR_BGR2GRAY)\n",
    "\n",
    "# apply Gaussian blur\n",
    "blur = cv2.GaussianBlur(gray, (5,5), 0)\n",
    "\n",
    "# detect edges using Canny edge detection\n",
    "edges = cv2.Canny(blur, 500, 250)\n",
    "\n",
    "# find contours\n",
    "contours, hierarchy = cv2.findContours(edges, cv2.RETR_EXTERNAL, cv2.CHAIN_APPROX_SIMPLE)"
   ]
  },
  {
   "cell_type": "code",
   "execution_count": 39,
   "metadata": {},
   "outputs": [],
   "source": [
    "# loop over contours and draw rectangles around license plates\n",
    "for cnt in contours:\n",
    "    area = cv2.contourArea(cnt)\n",
    "    if area > 200:\n",
    "        x, y, w, h = cv2.boundingRect(cnt)\n",
    "        cv2.rectangle(car_image, (x, y), (x+w, y+h), (0, 255, 0), 2)"
   ]
  },
  {
   "cell_type": "code",
   "execution_count": 40,
   "metadata": {},
   "outputs": [
    {
     "ename": "NameError",
     "evalue": "name 'y' is not defined",
     "output_type": "error",
     "traceback": [
      "\u001b[1;31m---------------------------------------------------------------------------\u001b[0m",
      "\u001b[1;31mNameError\u001b[0m                                 Traceback (most recent call last)",
      "Cell \u001b[1;32mIn[40], line 3\u001b[0m\n\u001b[0;32m      1\u001b[0m \u001b[39m# display result\u001b[39;00m\n\u001b[0;32m      2\u001b[0m \u001b[39m# cv2.imshow(\"License Plate Detection\", img)\u001b[39;00m\n\u001b[1;32m----> 3\u001b[0m cropped \u001b[39m=\u001b[39m cv2\u001b[39m.\u001b[39mresize(car_image[y:y\u001b[39m+\u001b[39mh, x:x\u001b[39m+\u001b[39mw], (\u001b[39m224\u001b[39m, \u001b[39m224\u001b[39m))\n\u001b[0;32m      4\u001b[0m \u001b[39m# plt.imshow(img)\u001b[39;00m\n\u001b[0;32m      5\u001b[0m \u001b[39m# plt.show(\"License Plate Detection\", img)\u001b[39;00m\n\u001b[0;32m      6\u001b[0m \u001b[39m# plt.show(cropped)\u001b[39;00m\n\u001b[0;32m      7\u001b[0m fig, axs \u001b[39m=\u001b[39m plt\u001b[39m.\u001b[39msubplots(\u001b[39m1\u001b[39m, \u001b[39m2\u001b[39m, figsize\u001b[39m=\u001b[39m(\u001b[39m10\u001b[39m, \u001b[39m5\u001b[39m))\n",
      "\u001b[1;31mNameError\u001b[0m: name 'y' is not defined"
     ]
    }
   ],
   "source": [
    "# display result\n",
    "# cv2.imshow(\"License Plate Detection\", img)\n",
    "cropped = cv2.resize(car_image[y:y+h, x:x+w], (224, 224))\n",
    "# plt.imshow(img)\n",
    "# plt.show(\"License Plate Detection\", img)\n",
    "# plt.show(cropped)\n",
    "fig, axs = plt.subplots(1, 2, figsize=(10, 5))\n",
    "axs[0].imshow(cv2.cvtColor(car_image, cv2.COLOR_BGR2RGB))\n",
    "axs[0].set_title('Original Image')\n",
    "axs[1].imshow(cv2.cvtColor(cropped, cv2.COLOR_BGR2RGB))\n",
    "axs[1].set_title('Cropped Image')\n"
   ]
  }
 ],
 "metadata": {
  "kernelspec": {
   "display_name": "venv",
   "language": "python",
   "name": "python3"
  },
  "language_info": {
   "codemirror_mode": {
    "name": "ipython",
    "version": 3
   },
   "file_extension": ".py",
   "mimetype": "text/x-python",
   "name": "python",
   "nbconvert_exporter": "python",
   "pygments_lexer": "ipython3",
   "version": "3.9.11"
  },
  "orig_nbformat": 4,
  "vscode": {
   "interpreter": {
    "hash": "04c5ae4280ccda0f7d4bb40a5783bb9aa716e509957b774329567305f1be0904"
   }
  }
 },
 "nbformat": 4,
 "nbformat_minor": 2
}
