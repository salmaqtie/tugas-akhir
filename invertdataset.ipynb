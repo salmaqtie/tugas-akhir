{
 "cells": [
  {
   "cell_type": "code",
   "execution_count": 10,
   "metadata": {},
   "outputs": [],
   "source": [
    "from PIL import Image, ImageOps\n",
    "import os\n",
    "\n",
    "current_dir = os.getcwd()\n"
   ]
  },
  {
   "cell_type": "code",
   "execution_count": 16,
   "metadata": {},
   "outputs": [],
   "source": [
    "for folders in os.listdir(\"data/train\"):\n",
    "    for filename in os.listdir(os.path.join(\"data/train\", folders)):\n",
    "        file_path = os.path.join(\"data/train\", folders, filename)\n",
    "        save_path = os.path.join(\"dataset/train\", folders)\n",
    "\n",
    "        if not os.path.isdir(save_path):\n",
    "            os.mkdir(save_path)\n",
    "        # Open the image file\n",
    "        image = Image.open(file_path)\n",
    "\n",
    "        # Invert the image using the PIL's invert function\n",
    "        inverted_image = ImageOps.invert(image)\n",
    "\n",
    "        # Save the inverted image to a new file\n",
    "        inverted_image.save(os.path.join(save_path, filename))"
   ]
  }
 ],
 "metadata": {
  "kernelspec": {
   "display_name": "venv",
   "language": "python",
   "name": "python3"
  },
  "language_info": {
   "codemirror_mode": {
    "name": "ipython",
    "version": 3
   },
   "file_extension": ".py",
   "mimetype": "text/x-python",
   "name": "python",
   "nbconvert_exporter": "python",
   "pygments_lexer": "ipython3",
   "version": "3.9.11"
  },
  "orig_nbformat": 4
 },
 "nbformat": 4,
 "nbformat_minor": 2
}
